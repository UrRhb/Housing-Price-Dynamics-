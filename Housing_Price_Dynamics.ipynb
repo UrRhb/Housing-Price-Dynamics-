{
  "nbformat": 4,
  "nbformat_minor": 0,
  "metadata": {
    "colab": {
      "provenance": [],
      "authorship_tag": "ABX9TyMbBInOkDlHazeCDlyvYZnC"
    },
    "kernelspec": {
      "name": "python3",
      "display_name": "Python 3"
    },
    "language_info": {
      "name": "python"
    }
  },
  "cells": [
    {
      "cell_type": "code",
      "execution_count": 1,
      "metadata": {
        "colab": {
          "base_uri": "https://localhost:8080/"
        },
        "id": "L2ZIVFn4ECtd",
        "outputId": "eb983b69-a73f-425f-ca37-d83cbf35fad3"
      },
      "outputs": [
        {
          "output_type": "stream",
          "name": "stdout",
          "text": [
            "Cloning into 'mod4project'...\n",
            "remote: Enumerating objects: 196, done.\u001b[K\n",
            "remote: Counting objects: 100% (13/13), done.\u001b[K\n",
            "remote: Compressing objects: 100% (10/10), done.\u001b[K\n",
            "remote: Total 196 (delta 3), reused 8 (delta 3), pack-reused 183\u001b[K\n",
            "Receiving objects: 100% (196/196), 63.45 MiB | 22.35 MiB/s, done.\n",
            "Resolving deltas: 100% (51/51), done.\n",
            "Updating files: 100% (129/129), done.\n"
          ]
        }
      ],
      "source": [
        "!git clone https://github.com/FoamoftheSea/mod4project.git\n"
      ]
    }
  ]
}