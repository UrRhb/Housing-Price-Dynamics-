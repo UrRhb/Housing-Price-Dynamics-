{
 "cells": [
  {
   "cell_type": "markdown",
   "metadata": {},
   "source": [
    "# Introduction\n",
    "The purpose of this notebook is twofold:\n",
    "1. To show the strength of using the R 'forecast' package to do ARIMA models, since it not only has an auto.arima() function but ALSO because the forecast package has a fourier() function, which produces a fourier series from a time series with K number of terms that can be used as exogenous variables in the ARIMA function, as well as in the forecasts. This gives a leg up in flexibility for modeling longer term periodic/seasonal trends in a time series.\n",
    "2. To examine the code behind these functions in order to create equivalent functions in python, so that it is not necessary to go back and forth between languages."
   ]
  },
  {
   "cell_type": "markdown",
   "metadata": {},
   "source": [
    "## Seeing the functions in action:"
   ]
  },
  {
   "cell_type": "code",
   "execution_count": 1,
   "metadata": {},
   "outputs": [
    {
     "name": "stderr",
     "output_type": "stream",
     "text": [
      "Loading required package: forecast\n",
      "\n",
      "Registered S3 method overwritten by 'quantmod':\n",
      "  method            from\n",
      "  as.zoo.data.frame zoo \n",
      "\n",
      "Loading required package: data.table\n",
      "\n"
     ]
    }
   ],
   "source": [
    "# importing packages\n",
    "require(forecast)\n",
    "require(data.table)"
   ]
  },
  {
   "cell_type": "code",
   "execution_count": 25,
   "metadata": {},
   "outputs": [
    {
     "data": {
      "text/html": [
       "<table>\n",
       "<caption>A data.table: 5 × 2</caption>\n",
       "<thead>\n",
       "\t<tr><th scope=col>V1</th><th scope=col>mean price</th></tr>\n",
       "\t<tr><th scope=col>&lt;date&gt;</th><th scope=col>&lt;dbl&gt;</th></tr>\n",
       "</thead>\n",
       "<tbody>\n",
       "\t<tr><td>1996-04-01</td><td>118299.1</td></tr>\n",
       "\t<tr><td>1996-05-01</td><td>118419.0</td></tr>\n",
       "\t<tr><td>1996-06-01</td><td>118537.4</td></tr>\n",
       "\t<tr><td>1996-07-01</td><td>118653.1</td></tr>\n",
       "\t<tr><td>1996-08-01</td><td>118780.3</td></tr>\n",
       "</tbody>\n",
       "</table>\n"
      ],
      "text/latex": [
       "A data.table: 5 × 2\n",
       "\\begin{tabular}{ll}\n",
       " V1 & mean price\\\\\n",
       " <date> & <dbl>\\\\\n",
       "\\hline\n",
       "\t 1996-04-01 & 118299.1\\\\\n",
       "\t 1996-05-01 & 118419.0\\\\\n",
       "\t 1996-06-01 & 118537.4\\\\\n",
       "\t 1996-07-01 & 118653.1\\\\\n",
       "\t 1996-08-01 & 118780.3\\\\\n",
       "\\end{tabular}\n"
      ],
      "text/markdown": [
       "\n",
       "A data.table: 5 × 2\n",
       "\n",
       "| V1 &lt;date&gt; | mean price &lt;dbl&gt; |\n",
       "|---|---|\n",
       "| 1996-04-01 | 118299.1 |\n",
       "| 1996-05-01 | 118419.0 |\n",
       "| 1996-06-01 | 118537.4 |\n",
       "| 1996-07-01 | 118653.1 |\n",
       "| 1996-08-01 | 118780.3 |\n",
       "\n"
      ],
      "text/plain": [
       "  V1         mean price\n",
       "1 1996-04-01 118299.1  \n",
       "2 1996-05-01 118419.0  \n",
       "3 1996-06-01 118537.4  \n",
       "4 1996-07-01 118653.1  \n",
       "5 1996-08-01 118780.3  "
      ]
     },
     "metadata": {},
     "output_type": "display_data"
    }
   ],
   "source": [
    "# loading the mean prices for all zipcodes from the zillow dataset, exported from python notebook\n",
    "series <- fread('housing_means.csv')\n",
    "series[1:5]"
   ]
  },
  {
   "cell_type": "code",
   "execution_count": 26,
   "metadata": {},
   "outputs": [
    {
     "data": {
      "image/png": "[encoded data removed]",
      "text/plain": [
       "plot without title"
      ]
     },
     "metadata": {
      "image/png": {
       "height": 420,
       "width": 420
      }
     },
     "output_type": "display_data"
    }
   ],
   "source": [
    "# visualizing data:\n",
    "plot(series)"
   ]
  },
  {
   "cell_type": "markdown",
   "metadata": {},
   "source": [
    "### Generating Periodogram:"
   ]
  },
  {
   "cell_type": "code",
   "execution_count": 27,
   "metadata": {},
   "outputs": [],
   "source": [
    "library('GeneCycle')"
   ]
  },
  {
   "cell_type": "code",
   "execution_count": 28,
   "metadata": {},
   "outputs": [
    {
     "data": {
      "image/png": "[encoded data removed]",
      "text/plain": [
       "plot without title"
      ]
     },
     "metadata": {
      "image/png": {
       "height": 420,
       "width": 420
      }
     },
     "output_type": "display_data"
    }
   ],
   "source": [
    "# Constructing periodogram to find frequencies of cycles\n",
    "p <- periodogram(series$`mean price`)\n",
    "plot(p$freq, p$spec)"
   ]
  },
  {
   "cell_type": "code",
   "execution_count": 29,
   "metadata": {},
   "outputs": [
    {
     "data": {
      "text/html": [
       "<table>\n",
       "<caption>A data.table: 2 × 2</caption>\n",
       "<thead>\n",
       "\t<tr><th scope=col>period</th><th scope=col>spec.V1</th></tr>\n",
       "\t<tr><th scope=col>&lt;dbl&gt;</th><th scope=col>&lt;dbl&gt;</th></tr>\n",
       "</thead>\n",
       "<tbody>\n",
       "\t<tr><td>265.0</td><td>111855779316</td></tr>\n",
       "\t<tr><td>132.5</td><td>111310822179</td></tr>\n",
       "</tbody>\n",
       "</table>\n"
      ],
      "text/latex": [
       "A data.table: 2 × 2\n",
       "\\begin{tabular}{ll}\n",
       " period & spec.V1\\\\\n",
       " <dbl> & <dbl>\\\\\n",
       "\\hline\n",
       "\t 265.0 & 111855779316\\\\\n",
       "\t 132.5 & 111310822179\\\\\n",
       "\\end{tabular}\n"
      ],
      "text/markdown": [
       "\n",
       "A data.table: 2 × 2\n",
       "\n",
       "| period &lt;dbl&gt; | spec.V1 &lt;dbl&gt; |\n",
       "|---|---|\n",
       "| 265.0 | 111855779316 |\n",
       "| 132.5 | 111310822179 |\n",
       "\n"
      ],
      "text/plain": [
       "  period spec.V1     \n",
       "1 265.0  111855779316\n",
       "2 132.5  111310822179"
      ]
     },
     "metadata": {},
     "output_type": "display_data"
    }
   ],
   "source": [
    "# Finding the number of periods that correspond to the frequencies of the periodogram\n",
    "data.table(period=1/p$freq, spec=p$spec)[order(-p$spec)][1:2]"
   ]
  },
  {
   "cell_type": "code",
   "execution_count": 30,
   "metadata": {},
   "outputs": [
    {
     "data": {
      "text/html": [
       "265"
      ],
      "text/latex": [
       "265"
      ],
      "text/markdown": [
       "265"
      ],
      "text/plain": [
       "[1] 265"
      ]
     },
     "metadata": {},
     "output_type": "display_data"
    }
   ],
   "source": [
    "# We can see that the periods found by the periodogram are the length of the series, and half\n",
    "# the length of the series. The entire series does look like one cycle of a larger waveform, so \n",
    "# this makes sense, but it could also be an artifact of the way the periodogram works, I may need\n",
    "# to compare this behavior to another dataset\n",
    "NROW(series)"
   ]
  },
  {
   "cell_type": "markdown",
   "metadata": {},
   "source": [
    "### Generating baseline model:"
   ]
  },
  {
   "cell_type": "code",
   "execution_count": 31,
   "metadata": {},
   "outputs": [],
   "source": [
    "library(xts)"
   ]
  },
  {
   "cell_type": "code",
   "execution_count": 32,
   "metadata": {},
   "outputs": [
    {
     "data": {
      "text/plain": [
       "               [,1]\n",
       "1996-04-01 118299.1\n",
       "1996-05-01 118419.0\n",
       "1996-06-01 118537.4\n",
       "1996-07-01 118653.1\n",
       "1996-08-01 118780.3"
      ]
     },
     "metadata": {},
     "output_type": "display_data"
    }
   ],
   "source": [
    "time_series = xts(x = series$`mean price`, order.by = as.Date(series$V1))\n",
    "time_series[1:5]"
   ]
  },
  {
   "cell_type": "code",
   "execution_count": 33,
   "metadata": {},
   "outputs": [
    {
     "data": {
      "text/plain": [
       "Series: time_series \n",
       "ARIMA(0,2,1) \n",
       "\n",
       "Coefficients:\n",
       "          ma1\n",
       "      -0.2677\n",
       "s.e.   0.0576\n",
       "\n",
       "sigma^2 estimated as 76084:  log likelihood=-1850.54\n",
       "AIC=3705.08   AICc=3705.12   BIC=3712.22"
      ]
     },
     "metadata": {},
     "output_type": "display_data"
    }
   ],
   "source": [
    "model <- auto.arima(time_series, seasonal=TRUE)\n",
    "model"
   ]
  },
  {
   "cell_type": "code",
   "execution_count": 35,
   "metadata": {},
   "outputs": [
    {
     "data": {
      "text/plain": [
       "    Point Forecast    Lo 80    Hi 80    Lo 95    Hi 95\n",
       "266       289699.1 289345.6 290052.6 289158.5 290239.8\n",
       "267       291358.3 290651.3 292065.4 290277.0 292439.7\n",
       "268       293017.5 291895.5 294139.5 291301.5 294733.5\n",
       "269       294676.7 293084.2 296269.2 292241.2 297112.2\n",
       "270       296335.9 294222.8 298448.9 293104.2 299567.5\n",
       "271       297995.1 295315.5 300674.6 293897.0 302093.1\n",
       "272       299654.3 296365.6 302942.9 294624.7 304683.8\n",
       "273       301313.4 297375.9 305251.0 295291.4 307335.5\n",
       "274       302972.6 298348.6 307596.7 295900.7 310044.5\n",
       "275       304631.8 299285.7 309978.0 296455.6 312808.1\n",
       "276       306291.0 300188.8 312393.2 296958.5 315623.5\n",
       "277       307950.2 301059.4 314841.0 297411.7 318488.7\n",
       "278       309609.4 301898.8 317319.9 297817.1 321401.6\n",
       "279       311268.6 302708.2 319829.0 298176.6 324360.6\n",
       "280       312927.8 303488.4 322367.1 298491.6 327363.9\n",
       "281       314586.9 304240.6 324933.3 298763.6 330410.3\n",
       "282       316246.1 304965.5 327526.8 298993.8 333498.4\n",
       "283       317905.3 305663.8 330146.8 299183.6 336627.1\n",
       "284       319564.5 306336.4 332792.6 299333.8 339795.2\n",
       "285       321223.7 306983.8 335463.6 299445.7 343001.7\n",
       "286       322882.9 307606.7 338159.0 299520.0 346245.8\n",
       "287       324542.1 308205.6 340878.5 299557.7 349526.5\n",
       "288       326201.2 308781.1 343621.4 299559.5 352843.0\n",
       "289       327860.4 309333.7 346387.2 299526.2 356194.7\n",
       "290       329519.6 309863.8 349175.5 299458.6 359580.7\n",
       "291       331178.8 310371.8 351985.8 299357.2 363000.4\n",
       "292       332838.0 310858.2 354817.8 299222.8 366453.2\n",
       "293       334497.2 311323.4 357670.9 299056.0 369938.4\n",
       "294       336156.4 311767.7 360545.0 298857.2 373455.6\n",
       "295       337815.6 312191.6 363439.5 298627.0 377004.1\n",
       "296       339474.7 312595.2 366354.3 298366.1 380583.4\n",
       "297       341133.9 312979.0 369288.8 298074.7 384193.2\n",
       "298       342793.1 313343.3 372243.0 297753.4 387832.8\n",
       "299       344452.3 313688.2 375216.4 297402.7 391501.9\n",
       "300       346111.5 314014.3 378208.7 297023.0 395200.0\n",
       "301       347770.7 314321.5 381219.8 296614.6 398926.7\n",
       "302       349429.9 314610.4 384249.4 296178.0 402681.7\n",
       "303       351089.1 314881.0 387297.1 295713.6 406464.5\n",
       "304       352748.2 315133.6 390362.9 295221.7 410274.8\n",
       "305       354407.4 315368.5 393446.3 294702.6 414112.3\n",
       "306       356066.6 315585.9 396547.4 294156.7 417976.6\n",
       "307       357725.8 315785.9 399665.7 293584.3 421867.3\n",
       "308       359385.0 315968.8 402801.2 292985.7 425784.3\n",
       "309       361044.2 316134.8 405953.5 292361.2 429727.1\n",
       "310       362703.4 316284.1 409122.7 291711.2 433695.6\n",
       "311       364362.5 316416.8 412308.3 291035.8 437689.3\n",
       "312       366021.7 316533.1 415510.4 290335.4 441708.1\n",
       "313       367680.9 316633.2 418728.6 289610.2 445751.6\n",
       "314       369340.1 316717.3 421962.9 288860.5 449819.7\n",
       "315       370999.3 316785.6 425213.0 288086.5 453912.0\n",
       "316       372658.5 316838.1 428478.9 287288.5 458028.4\n",
       "317       374317.7 316875.0 431760.3 286466.7 462168.6\n",
       "318       375976.9 316896.6 435057.2 285621.3 466332.4\n",
       "319       377636.0 316902.8 438369.3 284752.6 470519.5\n",
       "320       379295.2 316894.0 441696.5 283860.7 474729.8\n",
       "321       380954.4 316870.1 445038.8 282945.9 478963.0\n",
       "322       382613.6 316831.4 448395.9 282008.3 483218.9\n",
       "323       384272.8 316777.9 451767.7 281048.3 487497.3\n",
       "324       385932.0 316709.8 455154.1 280065.8 491798.1\n",
       "325       387591.2 316627.3 458555.1 279061.2 496121.1"
      ]
     },
     "metadata": {},
     "output_type": "display_data"
    }
   ],
   "source": [
    "forecast(model, h=60)"
   ]
  },
  {
   "cell_type": "code",
   "execution_count": 34,
   "metadata": {},
   "outputs": [
    {
     "data": {
      "image/png": "[encoded data removed]",
      "text/plain": [
       "plot without title"
      ]
     },
     "metadata": {
      "image/png": {
       "height": 420,
       "width": 420
      }
     },
     "output_type": "display_data"
    }
   ],
   "source": [
    "autoplot(forecast(model, h=60), geom = (12:6))"
   ]
  },
  {
   "cell_type": "markdown",
   "metadata": {},
   "source": [
    "### Generating Model with Fourier terms:"
   ]
  },
  {
   "cell_type": "code",
   "execution_count": 39,
   "metadata": {},
   "outputs": [
    {
     "data": {
      "text/html": [
       "<table>\n",
       "<caption>A matrix: 5 × 4 of type dbl</caption>\n",
       "<thead>\n",
       "\t<tr><th scope=col>S1-132</th><th scope=col>C1-132</th><th scope=col>S2-132</th><th scope=col>C2-132</th></tr>\n",
       "</thead>\n",
       "<tbody>\n",
       "\t<tr><td>0.04740250</td><td>0.9988759</td><td>0.09469842</td><td>0.9955060</td></tr>\n",
       "\t<tr><td>0.09469842</td><td>0.9955060</td><td>0.18854569</td><td>0.9820644</td></tr>\n",
       "\t<tr><td>0.14178144</td><td>0.9898980</td><td>0.28069832</td><td>0.9597960</td></tr>\n",
       "\t<tr><td>0.18854569</td><td>0.9820644</td><td>0.37032803</td><td>0.9289010</td></tr>\n",
       "\t<tr><td>0.23488605</td><td>0.9720229</td><td>0.45662924</td><td>0.8896571</td></tr>\n",
       "</tbody>\n",
       "</table>\n"
      ],
      "text/latex": [
       "A matrix: 5 × 4 of type dbl\n",
       "\\begin{tabular}{llll}\n",
       " S1-132 & C1-132 & S2-132 & C2-132\\\\\n",
       "\\hline\n",
       "\t 0.04740250 & 0.9988759 & 0.09469842 & 0.9955060\\\\\n",
       "\t 0.09469842 & 0.9955060 & 0.18854569 & 0.9820644\\\\\n",
       "\t 0.14178144 & 0.9898980 & 0.28069832 & 0.9597960\\\\\n",
       "\t 0.18854569 & 0.9820644 & 0.37032803 & 0.9289010\\\\\n",
       "\t 0.23488605 & 0.9720229 & 0.45662924 & 0.8896571\\\\\n",
       "\\end{tabular}\n"
      ],
      "text/markdown": [
       "\n",
       "A matrix: 5 × 4 of type dbl\n",
       "\n",
       "| S1-132 | C1-132 | S2-132 | C2-132 |\n",
       "|---|---|---|---|\n",
       "| 0.04740250 | 0.9988759 | 0.09469842 | 0.9955060 |\n",
       "| 0.09469842 | 0.9955060 | 0.18854569 | 0.9820644 |\n",
       "| 0.14178144 | 0.9898980 | 0.28069832 | 0.9597960 |\n",
       "| 0.18854569 | 0.9820644 | 0.37032803 | 0.9289010 |\n",
       "| 0.23488605 | 0.9720229 | 0.45662924 | 0.8896571 |\n",
       "\n"
      ],
      "text/plain": [
       "     S1-132     C1-132    S2-132     C2-132   \n",
       "[1,] 0.04740250 0.9988759 0.09469842 0.9955060\n",
       "[2,] 0.09469842 0.9955060 0.18854569 0.9820644\n",
       "[3,] 0.14178144 0.9898980 0.28069832 0.9597960\n",
       "[4,] 0.18854569 0.9820644 0.37032803 0.9289010\n",
       "[5,] 0.23488605 0.9720229 0.45662924 0.8896571"
      ]
     },
     "metadata": {},
     "output_type": "display_data"
    }
   ],
   "source": [
    "# creating a sample fourier series from data:\n",
    "fs = fourier(ts(time_series, f=132.5), K=2)\n",
    "\n",
    "# We can see that sine and cosine values are generated for each value of K for each data point:\n",
    "head(fs, 5)"
   ]
  },
  {
   "cell_type": "code",
   "execution_count": 42,
   "metadata": {},
   "outputs": [
    {
     "data": {
      "text/html": [
       "265"
      ],
      "text/latex": [
       "265"
      ],
      "text/markdown": [
       "265"
      ],
      "text/plain": [
       "[1] 265"
      ]
     },
     "metadata": {},
     "output_type": "display_data"
    }
   ],
   "source": [
    "length(fs)/4"
   ]
  },
  {
   "cell_type": "code",
   "execution_count": 43,
   "metadata": {},
   "outputs": [
    {
     "data": {
      "text/html": [
       "<table>\n",
       "<caption>A matrix: 5 × 4 of type dbl</caption>\n",
       "<thead>\n",
       "\t<tr><th scope=col>S1-132</th><th scope=col>C1-132</th><th scope=col>S2-132</th><th scope=col>C2-132</th></tr>\n",
       "</thead>\n",
       "<tbody>\n",
       "\t<tr><td>0.04740250</td><td>0.9988759</td><td>0.09469842</td><td>0.9955060</td></tr>\n",
       "\t<tr><td>0.09469842</td><td>0.9955060</td><td>0.18854569</td><td>0.9820644</td></tr>\n",
       "\t<tr><td>0.14178144</td><td>0.9898980</td><td>0.28069832</td><td>0.9597960</td></tr>\n",
       "\t<tr><td>0.18854569</td><td>0.9820644</td><td>0.37032803</td><td>0.9289010</td></tr>\n",
       "\t<tr><td>0.23488605</td><td>0.9720229</td><td>0.45662924</td><td>0.8896571</td></tr>\n",
       "</tbody>\n",
       "</table>\n"
      ],
      "text/latex": [
       "A matrix: 5 × 4 of type dbl\n",
       "\\begin{tabular}{llll}\n",
       " S1-132 & C1-132 & S2-132 & C2-132\\\\\n",
       "\\hline\n",
       "\t 0.04740250 & 0.9988759 & 0.09469842 & 0.9955060\\\\\n",
       "\t 0.09469842 & 0.9955060 & 0.18854569 & 0.9820644\\\\\n",
       "\t 0.14178144 & 0.9898980 & 0.28069832 & 0.9597960\\\\\n",
       "\t 0.18854569 & 0.9820644 & 0.37032803 & 0.9289010\\\\\n",
       "\t 0.23488605 & 0.9720229 & 0.45662924 & 0.8896571\\\\\n",
       "\\end{tabular}\n"
      ],
      "text/markdown": [
       "\n",
       "A matrix: 5 × 4 of type dbl\n",
       "\n",
       "| S1-132 | C1-132 | S2-132 | C2-132 |\n",
       "|---|---|---|---|\n",
       "| 0.04740250 | 0.9988759 | 0.09469842 | 0.9955060 |\n",
       "| 0.09469842 | 0.9955060 | 0.18854569 | 0.9820644 |\n",
       "| 0.14178144 | 0.9898980 | 0.28069832 | 0.9597960 |\n",
       "| 0.18854569 | 0.9820644 | 0.37032803 | 0.9289010 |\n",
       "| 0.23488605 | 0.9720229 | 0.45662924 | 0.8896571 |\n",
       "\n"
      ],
      "text/plain": [
       "     S1-132     C1-132    S2-132     C2-132   \n",
       "[1,] 0.04740250 0.9988759 0.09469842 0.9955060\n",
       "[2,] 0.09469842 0.9955060 0.18854569 0.9820644\n",
       "[3,] 0.14178144 0.9898980 0.28069832 0.9597960\n",
       "[4,] 0.18854569 0.9820644 0.37032803 0.9289010\n",
       "[5,] 0.23488605 0.9720229 0.45662924 0.8896571"
      ]
     },
     "metadata": {},
     "output_type": "display_data"
    }
   ],
   "source": [
    "# Looking at prediction behavior:\n",
    "fs = fourier(ts(time_series, f=132.5), h=60, K=2)\n",
    "\n",
    "# We can see that sine and cosine values are generated for each value of K for each data point:\n",
    "head(fs, 5)"
   ]
  },
  {
   "cell_type": "code",
   "execution_count": 44,
   "metadata": {},
   "outputs": [
    {
     "data": {
      "text/html": [
       "60"
      ],
      "text/latex": [
       "60"
      ],
      "text/markdown": [
       "60"
      ],
      "text/plain": [
       "[1] 60"
      ]
     },
     "metadata": {},
     "output_type": "display_data"
    }
   ],
   "source": [
    "length(fs)/4"
   ]
  },
  {
   "cell_type": "code",
   "execution_count": 13,
   "metadata": {},
   "outputs": [
    {
     "name": "stdout",
     "output_type": "stream",
     "text": [
      "[1] 1 1\n",
      "[1] 1 2\n",
      "[1] 1 3\n",
      "[1] 1 4\n",
      "[1] 1 5\n",
      "[1] 1 6\n",
      "[1] 1 7\n",
      "[1] 2 1\n"
     ]
    },
    {
     "ename": "ERROR",
     "evalue": "Error in auto.arima(time_series, xreg = cbind(z1, z2), seasonal = TRUE): xreg is rank deficient\n",
     "output_type": "error",
     "traceback": [
      "Error in auto.arima(time_series, xreg = cbind(z1, z2), seasonal = TRUE): xreg is rank deficient\nTraceback:\n",
      "1. auto.arima(time_series, xreg = cbind(z1, z2), seasonal = TRUE)",
      "2. stop(\"xreg is rank deficient\")"
     ]
    }
   ],
   "source": [
    "bestfit <- list(aicc=model$aicc, i=0, j=0, fit=model)\n",
    "# Choose the best model by AICc\n",
    "for(i in 1:7) {\n",
    "  for (j in 1:7){\n",
    "    z1 <- fourier(ts(time_series, frequency=265), K=i)\n",
    "    z2 <- fourier(ts(time_series, frequency=132.5), K=j)\n",
    "    print(c(i, j))\n",
    "    fit <- auto.arima(time_series, xreg=cbind(z1, z2), seasonal=TRUE)\n",
    "    if(fit$aicc < bestfit$aicc) {\n",
    "        bestfit <- list(aicc=fit$aicc, i=i, j=j, fit=fit)\n",
    "    }\n",
    "  }\n",
    "}\n",
    "bestfit"
   ]
  },
  {
   "cell_type": "code",
   "execution_count": 14,
   "metadata": {},
   "outputs": [
    {
     "name": "stdout",
     "output_type": "stream",
     "text": [
      "[1] 0 0\n"
     ]
    },
    {
     "name": "stderr",
     "output_type": "stream",
     "text": [
      "i, j combo caused an error\n",
      "\n"
     ]
    },
    {
     "name": "stdout",
     "output_type": "stream",
     "text": [
      "[1] 0 1\n",
      "[1] 0 2\n",
      "[1] 0 3\n",
      "[1] 0 4\n",
      "[1] 0 5\n",
      "[1] 0 6\n",
      "[1] 0 7\n",
      "[1] 1 0\n",
      "[1] 1 1\n",
      "[1] 1 2\n",
      "[1] 1 3\n",
      "[1] 1 4\n",
      "[1] 1 5\n",
      "[1] 1 6\n",
      "[1] 1 7\n",
      "[1] 2 0\n",
      "[1] 2 1\n"
     ]
    },
    {
     "name": "stderr",
     "output_type": "stream",
     "text": [
      "i, j combo caused an error\n",
      "\n"
     ]
    },
    {
     "name": "stdout",
     "output_type": "stream",
     "text": [
      "[1] 2 2\n"
     ]
    },
    {
     "name": "stderr",
     "output_type": "stream",
     "text": [
      "i, j combo caused an error\n",
      "\n"
     ]
    },
    {
     "name": "stdout",
     "output_type": "stream",
     "text": [
      "[1] 2 3\n"
     ]
    },
    {
     "name": "stderr",
     "output_type": "stream",
     "text": [
      "i, j combo caused an error\n",
      "\n"
     ]
    },
    {
     "name": "stdout",
     "output_type": "stream",
     "text": [
      "[1] 2 4\n"
     ]
    },
    {
     "name": "stderr",
     "output_type": "stream",
     "text": [
      "i, j combo caused an error\n",
      "\n"
     ]
    },
    {
     "name": "stdout",
     "output_type": "stream",
     "text": [
      "[1] 2 5\n"
     ]
    },
    {
     "name": "stderr",
     "output_type": "stream",
     "text": [
      "i, j combo caused an error\n",
      "\n"
     ]
    },
    {
     "name": "stdout",
     "output_type": "stream",
     "text": [
      "[1] 2 6\n"
     ]
    },
    {
     "name": "stderr",
     "output_type": "stream",
     "text": [
      "i, j combo caused an error\n",
      "\n"
     ]
    },
    {
     "name": "stdout",
     "output_type": "stream",
     "text": [
      "[1] 2 7\n"
     ]
    },
    {
     "name": "stderr",
     "output_type": "stream",
     "text": [
      "i, j combo caused an error\n",
      "\n"
     ]
    },
    {
     "name": "stdout",
     "output_type": "stream",
     "text": [
      "[1] 3 0\n",
      "[1] 3 1\n"
     ]
    },
    {
     "name": "stderr",
     "output_type": "stream",
     "text": [
      "i, j combo caused an error\n",
      "\n"
     ]
    },
    {
     "name": "stdout",
     "output_type": "stream",
     "text": [
      "[1] 3 2\n"
     ]
    },
    {
     "name": "stderr",
     "output_type": "stream",
     "text": [
      "i, j combo caused an error\n",
      "\n"
     ]
    },
    {
     "name": "stdout",
     "output_type": "stream",
     "text": [
      "[1] 3 3\n"
     ]
    },
    {
     "name": "stderr",
     "output_type": "stream",
     "text": [
      "i, j combo caused an error\n",
      "\n"
     ]
    },
    {
     "name": "stdout",
     "output_type": "stream",
     "text": [
      "[1] 3 4\n"
     ]
    },
    {
     "name": "stderr",
     "output_type": "stream",
     "text": [
      "i, j combo caused an error\n",
      "\n"
     ]
    },
    {
     "name": "stdout",
     "output_type": "stream",
     "text": [
      "[1] 3 5\n"
     ]
    },
    {
     "name": "stderr",
     "output_type": "stream",
     "text": [
      "i, j combo caused an error\n",
      "\n"
     ]
    },
    {
     "name": "stdout",
     "output_type": "stream",
     "text": [
      "[1] 3 6\n"
     ]
    },
    {
     "name": "stderr",
     "output_type": "stream",
     "text": [
      "i, j combo caused an error\n",
      "\n"
     ]
    },
    {
     "name": "stdout",
     "output_type": "stream",
     "text": [
      "[1] 3 7\n"
     ]
    },
    {
     "name": "stderr",
     "output_type": "stream",
     "text": [
      "i, j combo caused an error\n",
      "\n"
     ]
    },
    {
     "name": "stdout",
     "output_type": "stream",
     "text": [
      "[1] 4 0\n",
      "[1] 4 1\n"
     ]
    },
    {
     "name": "stderr",
     "output_type": "stream",
     "text": [
      "i, j combo caused an error\n",
      "\n"
     ]
    },
    {
     "name": "stdout",
     "output_type": "stream",
     "text": [
      "[1] 4 2\n"
     ]
    },
    {
     "name": "stderr",
     "output_type": "stream",
     "text": [
      "i, j combo caused an error\n",
      "\n"
     ]
    },
    {
     "name": "stdout",
     "output_type": "stream",
     "text": [
      "[1] 4 3\n"
     ]
    },
    {
     "name": "stderr",
     "output_type": "stream",
     "text": [
      "i, j combo caused an error\n",
      "\n"
     ]
    },
    {
     "name": "stdout",
     "output_type": "stream",
     "text": [
      "[1] 4 4\n"
     ]
    },
    {
     "name": "stderr",
     "output_type": "stream",
     "text": [
      "i, j combo caused an error\n",
      "\n"
     ]
    },
    {
     "name": "stdout",
     "output_type": "stream",
     "text": [
      "[1] 4 5\n"
     ]
    },
    {
     "name": "stderr",
     "output_type": "stream",
     "text": [
      "i, j combo caused an error\n",
      "\n"
     ]
    },
    {
     "name": "stdout",
     "output_type": "stream",
     "text": [
      "[1] 4 6\n"
     ]
    },
    {
     "name": "stderr",
     "output_type": "stream",
     "text": [
      "i, j combo caused an error\n",
      "\n"
     ]
    },
    {
     "name": "stdout",
     "output_type": "stream",
     "text": [
      "[1] 4 7\n"
     ]
    },
    {
     "name": "stderr",
     "output_type": "stream",
     "text": [
      "i, j combo caused an error\n",
      "\n"
     ]
    },
    {
     "name": "stdout",
     "output_type": "stream",
     "text": [
      "[1] 5 0\n",
      "[1] 5 1\n"
     ]
    },
    {
     "name": "stderr",
     "output_type": "stream",
     "text": [
      "i, j combo caused an error\n",
      "\n"
     ]
    },
    {
     "name": "stdout",
     "output_type": "stream",
     "text": [
      "[1] 5 2\n"
     ]
    },
    {
     "name": "stderr",
     "output_type": "stream",
     "text": [
      "i, j combo caused an error\n",
      "\n"
     ]
    },
    {
     "name": "stdout",
     "output_type": "stream",
     "text": [
      "[1] 5 3\n"
     ]
    },
    {
     "name": "stderr",
     "output_type": "stream",
     "text": [
      "i, j combo caused an error\n",
      "\n"
     ]
    },
    {
     "name": "stdout",
     "output_type": "stream",
     "text": [
      "[1] 5 4\n"
     ]
    },
    {
     "name": "stderr",
     "output_type": "stream",
     "text": [
      "i, j combo caused an error\n",
      "\n"
     ]
    },
    {
     "name": "stdout",
     "output_type": "stream",
     "text": [
      "[1] 5 5\n"
     ]
    },
    {
     "name": "stderr",
     "output_type": "stream",
     "text": [
      "i, j combo caused an error\n",
      "\n"
     ]
    },
    {
     "name": "stdout",
     "output_type": "stream",
     "text": [
      "[1] 5 6\n"
     ]
    },
    {
     "name": "stderr",
     "output_type": "stream",
     "text": [
      "i, j combo caused an error\n",
      "\n"
     ]
    },
    {
     "name": "stdout",
     "output_type": "stream",
     "text": [
      "[1] 5 7\n"
     ]
    },
    {
     "name": "stderr",
     "output_type": "stream",
     "text": [
      "i, j combo caused an error\n",
      "\n"
     ]
    },
    {
     "name": "stdout",
     "output_type": "stream",
     "text": [
      "[1] 6 0\n",
      "[1] 6 1\n"
     ]
    },
    {
     "name": "stderr",
     "output_type": "stream",
     "text": [
      "i, j combo caused an error\n",
      "\n"
     ]
    },
    {
     "name": "stdout",
     "output_type": "stream",
     "text": [
      "[1] 6 2\n"
     ]
    },
    {
     "name": "stderr",
     "output_type": "stream",
     "text": [
      "i, j combo caused an error\n",
      "\n"
     ]
    },
    {
     "name": "stdout",
     "output_type": "stream",
     "text": [
      "[1] 6 3\n"
     ]
    },
    {
     "name": "stderr",
     "output_type": "stream",
     "text": [
      "i, j combo caused an error\n",
      "\n"
     ]
    },
    {
     "name": "stdout",
     "output_type": "stream",
     "text": [
      "[1] 6 4\n"
     ]
    },
    {
     "name": "stderr",
     "output_type": "stream",
     "text": [
      "i, j combo caused an error\n",
      "\n"
     ]
    },
    {
     "name": "stdout",
     "output_type": "stream",
     "text": [
      "[1] 6 5\n"
     ]
    },
    {
     "name": "stderr",
     "output_type": "stream",
     "text": [
      "i, j combo caused an error\n",
      "\n"
     ]
    },
    {
     "name": "stdout",
     "output_type": "stream",
     "text": [
      "[1] 6 6\n"
     ]
    },
    {
     "name": "stderr",
     "output_type": "stream",
     "text": [
      "i, j combo caused an error\n",
      "\n"
     ]
    },
    {
     "name": "stdout",
     "output_type": "stream",
     "text": [
      "[1] 6 7\n"
     ]
    },
    {
     "name": "stderr",
     "output_type": "stream",
     "text": [
      "i, j combo caused an error\n",
      "\n"
     ]
    },
    {
     "name": "stdout",
     "output_type": "stream",
     "text": [
      "[1] 7 0\n",
      "[1] 7 1\n"
     ]
    },
    {
     "name": "stderr",
     "output_type": "stream",
     "text": [
      "i, j combo caused an error\n",
      "\n"
     ]
    },
    {
     "name": "stdout",
     "output_type": "stream",
     "text": [
      "[1] 7 2\n"
     ]
    },
    {
     "name": "stderr",
     "output_type": "stream",
     "text": [
      "i, j combo caused an error\n",
      "\n"
     ]
    },
    {
     "name": "stdout",
     "output_type": "stream",
     "text": [
      "[1] 7 3\n"
     ]
    },
    {
     "name": "stderr",
     "output_type": "stream",
     "text": [
      "i, j combo caused an error\n",
      "\n"
     ]
    },
    {
     "name": "stdout",
     "output_type": "stream",
     "text": [
      "[1] 7 4\n"
     ]
    },
    {
     "name": "stderr",
     "output_type": "stream",
     "text": [
      "i, j combo caused an error\n",
      "\n"
     ]
    },
    {
     "name": "stdout",
     "output_type": "stream",
     "text": [
      "[1] 7 5\n"
     ]
    },
    {
     "name": "stderr",
     "output_type": "stream",
     "text": [
      "i, j combo caused an error\n",
      "\n"
     ]
    },
    {
     "name": "stdout",
     "output_type": "stream",
     "text": [
      "[1] 7 6\n"
     ]
    },
    {
     "name": "stderr",
     "output_type": "stream",
     "text": [
      "i, j combo caused an error\n",
      "\n"
     ]
    },
    {
     "name": "stdout",
     "output_type": "stream",
     "text": [
      "[1] 7 7\n"
     ]
    },
    {
     "name": "stderr",
     "output_type": "stream",
     "text": [
      "i, j combo caused an error\n",
      "\n"
     ]
    }
   ],
   "source": [
    "# Looks like I will need to use exception handling with tryCatch()\n",
    "bestfit <- list(aicc=model$aicc, i=0, j=0, fit=model)\n",
    "# Choose the best model by AICc\n",
    "min <- 0\n",
    "min2 <- 0\n",
    "for(i in min:7) {\n",
    "  for (j in min2:7){\n",
    "      possibleError <- tryCatch(\n",
    "          {\n",
    "              z1 <- fourier(ts(time_series, frequency=265), K=i)\n",
    "              z2 <- fourier(ts(time_series, frequency=132.5), K=j)\n",
    "              print(c(i, j))\n",
    "              fit <- auto.arima(time_series, xreg=cbind(z1, z2), seasonal=TRUE)\n",
    "              if(fit$aicc < bestfit$aicc) {\n",
    "                  bestfit <- list(aicc=fit$aicc, i=i, j=j, fit=fit)\n",
    "              }\n",
    "          },\n",
    "          error = function(cond){\n",
    "              message(paste(\"i, j combo caused an error\"))\n",
    "          },\n",
    "          warning = function(cond){\n",
    "              message(paste(\"i, j combo caused a warning\"))\n",
    "          },\n",
    "          finally={\n",
    "          #message(\"Completed Optimization\")\n",
    "          }\n",
    "    )\n",
    "    if(inherits(possibleError, \"error\")) next\n",
    "  }\n",
    "}"
   ]
  },
  {
   "cell_type": "code",
   "execution_count": 15,
   "metadata": {},
   "outputs": [
    {
     "data": {
      "text/plain": [
       "$aicc\n",
       "[1] 3692.956\n",
       "\n",
       "$i\n",
       "[1] 5\n",
       "\n",
       "$j\n",
       "[1] 0\n",
       "\n",
       "$fit\n",
       "Series: time_series \n",
       "Regression with ARIMA(1,2,2) errors \n",
       "\n",
       "Coefficients:\n",
       "         ar1      ma1    ma2     S1-265      C1-265     S2-265     C2-265\n",
       "      0.7862  -1.2012  0.231  22871.000  -41865.724  -7250.962  18342.108\n",
       "s.e.  0.0675   0.0936  0.085   6342.907    9686.324   2076.238   2751.943\n",
       "        S3-265     C3-265      S4-265     C4-265    S5-265    C5-265\n",
       "      1332.792  -7539.379  -1788.1240  2444.1207  2268.367   21.7208\n",
       "s.e.  1184.533   1422.732    815.7834   923.6587   613.004  669.9788\n",
       "\n",
       "sigma^2 estimated as 68923:  log likelihood=-1831.63\n",
       "AIC=3691.26   AICc=3692.96   BIC=3741.27\n"
      ]
     },
     "metadata": {},
     "output_type": "display_data"
    }
   ],
   "source": [
    "bestfit"
   ]
  },
  {
   "cell_type": "code",
   "execution_count": 16,
   "metadata": {
    "scrolled": true
   },
   "outputs": [
    {
     "data": {
      "image/png": "[encoded data removed]",
      "text/plain": [
       "plot without title"
      ]
     },
     "metadata": {
      "image/png": {
       "height": 420,
       "width": 420
      }
     },
     "output_type": "display_data"
    }
   ],
   "source": [
    "z1 <- fourier(ts(time_series, f=265), K=bestfit$i)\n",
    "z2 <- fourier(ts(time_series, f=132,5), K=bestfit$j)\n",
    "autoplot(forecast(bestfit$fit, h=60, xreg=cbind(z1, z2)))"
   ]
  },
  {
   "cell_type": "markdown",
   "metadata": {},
   "source": [
    "Repeating the iterations using differenced time series rather than raw, to see if that makes a difference:"
   ]
  },
  {
   "cell_type": "code",
   "execution_count": 17,
   "metadata": {},
   "outputs": [
    {
     "name": "stdout",
     "output_type": "stream",
     "text": [
      "[1] 0 0\n"
     ]
    },
    {
     "name": "stderr",
     "output_type": "stream",
     "text": [
      "i, j combo caused an error\n",
      "\n"
     ]
    },
    {
     "name": "stdout",
     "output_type": "stream",
     "text": [
      "[1] 0 1\n",
      "[1] 0 2\n",
      "[1] 0 3\n",
      "[1] 0 4\n",
      "[1] 0 5\n",
      "[1] 0 6\n",
      "[1] 0 7\n",
      "[1] 1 0\n",
      "[1] 1 1\n",
      "[1] 1 2\n",
      "[1] 1 3\n",
      "[1] 1 4\n",
      "[1] 1 5\n",
      "[1] 1 6\n",
      "[1] 1 7\n",
      "[1] 2 0\n",
      "[1] 2 1\n"
     ]
    },
    {
     "name": "stderr",
     "output_type": "stream",
     "text": [
      "i, j combo caused an error\n",
      "\n"
     ]
    },
    {
     "name": "stdout",
     "output_type": "stream",
     "text": [
      "[1] 2 2\n"
     ]
    },
    {
     "name": "stderr",
     "output_type": "stream",
     "text": [
      "i, j combo caused an error\n",
      "\n"
     ]
    },
    {
     "name": "stdout",
     "output_type": "stream",
     "text": [
      "[1] 2 3\n"
     ]
    },
    {
     "name": "stderr",
     "output_type": "stream",
     "text": [
      "i, j combo caused an error\n",
      "\n"
     ]
    },
    {
     "name": "stdout",
     "output_type": "stream",
     "text": [
      "[1] 2 4\n"
     ]
    },
    {
     "name": "stderr",
     "output_type": "stream",
     "text": [
      "i, j combo caused an error\n",
      "\n"
     ]
    },
    {
     "name": "stdout",
     "output_type": "stream",
     "text": [
      "[1] 2 5\n"
     ]
    },
    {
     "name": "stderr",
     "output_type": "stream",
     "text": [
      "i, j combo caused an error\n",
      "\n"
     ]
    },
    {
     "name": "stdout",
     "output_type": "stream",
     "text": [
      "[1] 2 6\n"
     ]
    },
    {
     "name": "stderr",
     "output_type": "stream",
     "text": [
      "i, j combo caused an error\n",
      "\n"
     ]
    },
    {
     "name": "stdout",
     "output_type": "stream",
     "text": [
      "[1] 2 7\n"
     ]
    },
    {
     "name": "stderr",
     "output_type": "stream",
     "text": [
      "i, j combo caused an error\n",
      "\n"
     ]
    },
    {
     "name": "stdout",
     "output_type": "stream",
     "text": [
      "[1] 3 0\n",
      "[1] 3 1\n"
     ]
    },
    {
     "name": "stderr",
     "output_type": "stream",
     "text": [
      "i, j combo caused an error\n",
      "\n"
     ]
    },
    {
     "name": "stdout",
     "output_type": "stream",
     "text": [
      "[1] 3 2\n"
     ]
    },
    {
     "name": "stderr",
     "output_type": "stream",
     "text": [
      "i, j combo caused an error\n",
      "\n"
     ]
    },
    {
     "name": "stdout",
     "output_type": "stream",
     "text": [
      "[1] 3 3\n"
     ]
    },
    {
     "name": "stderr",
     "output_type": "stream",
     "text": [
      "i, j combo caused an error\n",
      "\n"
     ]
    },
    {
     "name": "stdout",
     "output_type": "stream",
     "text": [
      "[1] 3 4\n"
     ]
    },
    {
     "name": "stderr",
     "output_type": "stream",
     "text": [
      "i, j combo caused an error\n",
      "\n"
     ]
    },
    {
     "name": "stdout",
     "output_type": "stream",
     "text": [
      "[1] 3 5\n"
     ]
    },
    {
     "name": "stderr",
     "output_type": "stream",
     "text": [
      "i, j combo caused an error\n",
      "\n"
     ]
    },
    {
     "name": "stdout",
     "output_type": "stream",
     "text": [
      "[1] 3 6\n"
     ]
    },
    {
     "name": "stderr",
     "output_type": "stream",
     "text": [
      "i, j combo caused an error\n",
      "\n"
     ]
    },
    {
     "name": "stdout",
     "output_type": "stream",
     "text": [
      "[1] 3 7\n"
     ]
    },
    {
     "name": "stderr",
     "output_type": "stream",
     "text": [
      "i, j combo caused an error\n",
      "\n"
     ]
    },
    {
     "name": "stdout",
     "output_type": "stream",
     "text": [
      "[1] 4 0\n",
      "[1] 4 1\n"
     ]
    },
    {
     "name": "stderr",
     "output_type": "stream",
     "text": [
      "i, j combo caused an error\n",
      "\n"
     ]
    },
    {
     "name": "stdout",
     "output_type": "stream",
     "text": [
      "[1] 4 2\n"
     ]
    },
    {
     "name": "stderr",
     "output_type": "stream",
     "text": [
      "i, j combo caused an error\n",
      "\n"
     ]
    },
    {
     "name": "stdout",
     "output_type": "stream",
     "text": [
      "[1] 4 3\n"
     ]
    },
    {
     "name": "stderr",
     "output_type": "stream",
     "text": [
      "i, j combo caused an error\n",
      "\n"
     ]
    },
    {
     "name": "stdout",
     "output_type": "stream",
     "text": [
      "[1] 4 4\n"
     ]
    },
    {
     "name": "stderr",
     "output_type": "stream",
     "text": [
      "i, j combo caused an error\n",
      "\n"
     ]
    },
    {
     "name": "stdout",
     "output_type": "stream",
     "text": [
      "[1] 4 5\n"
     ]
    },
    {
     "name": "stderr",
     "output_type": "stream",
     "text": [
      "i, j combo caused an error\n",
      "\n"
     ]
    },
    {
     "name": "stdout",
     "output_type": "stream",
     "text": [
      "[1] 4 6\n"
     ]
    },
    {
     "name": "stderr",
     "output_type": "stream",
     "text": [
      "i, j combo caused an error\n",
      "\n"
     ]
    },
    {
     "name": "stdout",
     "output_type": "stream",
     "text": [
      "[1] 4 7\n"
     ]
    },
    {
     "name": "stderr",
     "output_type": "stream",
     "text": [
      "i, j combo caused an error\n",
      "\n"
     ]
    },
    {
     "name": "stdout",
     "output_type": "stream",
     "text": [
      "[1] 5 0\n",
      "[1] 5 1\n"
     ]
    },
    {
     "name": "stderr",
     "output_type": "stream",
     "text": [
      "i, j combo caused an error\n",
      "\n"
     ]
    },
    {
     "name": "stdout",
     "output_type": "stream",
     "text": [
      "[1] 5 2\n"
     ]
    },
    {
     "name": "stderr",
     "output_type": "stream",
     "text": [
      "i, j combo caused an error\n",
      "\n"
     ]
    },
    {
     "name": "stdout",
     "output_type": "stream",
     "text": [
      "[1] 5 3\n"
     ]
    },
    {
     "name": "stderr",
     "output_type": "stream",
     "text": [
      "i, j combo caused an error\n",
      "\n"
     ]
    },
    {
     "name": "stdout",
     "output_type": "stream",
     "text": [
      "[1] 5 4\n"
     ]
    },
    {
     "name": "stderr",
     "output_type": "stream",
     "text": [
      "i, j combo caused an error\n",
      "\n"
     ]
    },
    {
     "name": "stdout",
     "output_type": "stream",
     "text": [
      "[1] 5 5\n"
     ]
    },
    {
     "name": "stderr",
     "output_type": "stream",
     "text": [
      "i, j combo caused an error\n",
      "\n"
     ]
    },
    {
     "name": "stdout",
     "output_type": "stream",
     "text": [
      "[1] 5 6\n"
     ]
    },
    {
     "name": "stderr",
     "output_type": "stream",
     "text": [
      "i, j combo caused an error\n",
      "\n"
     ]
    },
    {
     "name": "stdout",
     "output_type": "stream",
     "text": [
      "[1] 5 7\n"
     ]
    },
    {
     "name": "stderr",
     "output_type": "stream",
     "text": [
      "i, j combo caused an error\n",
      "\n"
     ]
    },
    {
     "name": "stdout",
     "output_type": "stream",
     "text": [
      "[1] 6 0\n",
      "[1] 6 1\n"
     ]
    },
    {
     "name": "stderr",
     "output_type": "stream",
     "text": [
      "i, j combo caused an error\n",
      "\n"
     ]
    },
    {
     "name": "stdout",
     "output_type": "stream",
     "text": [
      "[1] 6 2\n"
     ]
    },
    {
     "name": "stderr",
     "output_type": "stream",
     "text": [
      "i, j combo caused an error\n",
      "\n"
     ]
    },
    {
     "name": "stdout",
     "output_type": "stream",
     "text": [
      "[1] 6 3\n"
     ]
    },
    {
     "name": "stderr",
     "output_type": "stream",
     "text": [
      "i, j combo caused an error\n",
      "\n"
     ]
    },
    {
     "name": "stdout",
     "output_type": "stream",
     "text": [
      "[1] 6 4\n"
     ]
    },
    {
     "name": "stderr",
     "output_type": "stream",
     "text": [
      "i, j combo caused an error\n",
      "\n"
     ]
    },
    {
     "name": "stdout",
     "output_type": "stream",
     "text": [
      "[1] 6 5\n"
     ]
    },
    {
     "name": "stderr",
     "output_type": "stream",
     "text": [
      "i, j combo caused an error\n",
      "\n"
     ]
    },
    {
     "name": "stdout",
     "output_type": "stream",
     "text": [
      "[1] 6 6\n"
     ]
    },
    {
     "name": "stderr",
     "output_type": "stream",
     "text": [
      "i, j combo caused an error\n",
      "\n"
     ]
    },
    {
     "name": "stdout",
     "output_type": "stream",
     "text": [
      "[1] 6 7\n"
     ]
    },
    {
     "name": "stderr",
     "output_type": "stream",
     "text": [
      "i, j combo caused an error\n",
      "\n"
     ]
    },
    {
     "name": "stdout",
     "output_type": "stream",
     "text": [
      "[1] 7 0\n",
      "[1] 7 1\n"
     ]
    },
    {
     "name": "stderr",
     "output_type": "stream",
     "text": [
      "i, j combo caused an error\n",
      "\n"
     ]
    },
    {
     "name": "stdout",
     "output_type": "stream",
     "text": [
      "[1] 7 2\n"
     ]
    },
    {
     "name": "stderr",
     "output_type": "stream",
     "text": [
      "i, j combo caused an error\n",
      "\n"
     ]
    },
    {
     "name": "stdout",
     "output_type": "stream",
     "text": [
      "[1] 7 3\n"
     ]
    },
    {
     "name": "stderr",
     "output_type": "stream",
     "text": [
      "i, j combo caused an error\n",
      "\n"
     ]
    },
    {
     "name": "stdout",
     "output_type": "stream",
     "text": [
      "[1] 7 4\n"
     ]
    },
    {
     "name": "stderr",
     "output_type": "stream",
     "text": [
      "i, j combo caused an error\n",
      "\n"
     ]
    },
    {
     "name": "stdout",
     "output_type": "stream",
     "text": [
      "[1] 7 5\n"
     ]
    },
    {
     "name": "stderr",
     "output_type": "stream",
     "text": [
      "i, j combo caused an error\n",
      "\n"
     ]
    },
    {
     "name": "stdout",
     "output_type": "stream",
     "text": [
      "[1] 7 6\n"
     ]
    },
    {
     "name": "stderr",
     "output_type": "stream",
     "text": [
      "i, j combo caused an error\n",
      "\n"
     ]
    },
    {
     "name": "stdout",
     "output_type": "stream",
     "text": [
      "[1] 7 7\n"
     ]
    },
    {
     "name": "stderr",
     "output_type": "stream",
     "text": [
      "i, j combo caused an error\n",
      "\n"
     ]
    }
   ],
   "source": [
    "# Looks like I will need to use exception handling with tryCatch()\n",
    "bestfit <- list(aicc=model$aicc, i=0, j=0, fit=model)\n",
    "# Choose the best model by AICc\n",
    "min <- 0\n",
    "min2 <- 0\n",
    "for(i in min:7) {\n",
    "  for (j in min2:7){\n",
    "      possibleError <- tryCatch(\n",
    "          {\n",
    "              z1 <- fourier(ts(diff(time_series, lag=2), frequency=265), K=i)\n",
    "              z2 <- fourier(ts(diff(time_series, lag=2), frequency=132.5), K=j)\n",
    "              print(c(i, j))\n",
    "              fit <- auto.arima(time_series, xreg=cbind(z1, z2), seasonal=TRUE)\n",
    "              if(fit$aicc < bestfit$aicc) {\n",
    "                  bestfit <- list(aicc=fit$aicc, i=i, j=j, fit=fit)\n",
    "              }\n",
    "          },\n",
    "          error = function(cond){\n",
    "              message(paste(\"i, j combo caused an error\"))\n",
    "          },\n",
    "          warning = function(cond){\n",
    "              message(paste(\"i, j combo caused a warning\"))\n",
    "          },\n",
    "          finally={\n",
    "          #message(\"Completed Optimization\")\n",
    "          }\n",
    "    )\n",
    "    if(inherits(possibleError, \"error\")) next\n",
    "  }\n",
    "}"
   ]
  },
  {
   "cell_type": "code",
   "execution_count": 18,
   "metadata": {},
   "outputs": [
    {
     "data": {
      "text/plain": [
       "$aicc\n",
       "[1] 3692.956\n",
       "\n",
       "$i\n",
       "[1] 5\n",
       "\n",
       "$j\n",
       "[1] 0\n",
       "\n",
       "$fit\n",
       "Series: time_series \n",
       "Regression with ARIMA(1,2,2) errors \n",
       "\n",
       "Coefficients:\n",
       "         ar1      ma1    ma2     S1-265      C1-265     S2-265     C2-265\n",
       "      0.7862  -1.2012  0.231  22871.000  -41865.724  -7250.962  18342.108\n",
       "s.e.  0.0675   0.0936  0.085   6342.907    9686.324   2076.238   2751.943\n",
       "        S3-265     C3-265      S4-265     C4-265    S5-265    C5-265\n",
       "      1332.792  -7539.379  -1788.1240  2444.1207  2268.367   21.7208\n",
       "s.e.  1184.533   1422.732    815.7834   923.6587   613.004  669.9788\n",
       "\n",
       "sigma^2 estimated as 68923:  log likelihood=-1831.63\n",
       "AIC=3691.26   AICc=3692.96   BIC=3741.27\n"
      ]
     },
     "metadata": {},
     "output_type": "display_data"
    }
   ],
   "source": [
    "bestfit"
   ]
  },
  {
   "cell_type": "code",
   "execution_count": 19,
   "metadata": {},
   "outputs": [
    {
     "data": {
      "image/png": "[encoded data removed]",
      "text/plain": [
       "plot without title"
      ]
     },
     "metadata": {
      "image/png": {
       "height": 420,
       "width": 420
      }
     },
     "output_type": "display_data"
    }
   ],
   "source": [
    "z1 <- fourier(ts(time_series, f=265), K=bestfit$i)\n",
    "z2 <- fourier(ts(time_series, f=132,5), K=bestfit$j)\n",
    "autoplot(forecast(bestfit$fit, h=60, xreg=cbind(z1, z2)))"
   ]
  },
  {
   "cell_type": "code",
   "execution_count": 20,
   "metadata": {},
   "outputs": [],
   "source": [
    "# We can see that differencing the series before taking the fourier series did not have any\n",
    "# effect."
   ]
  },
  {
   "cell_type": "markdown",
   "metadata": {},
   "source": [
    "### Notes so far:\n",
    "We can see that adding the fourier terms has improved the AICC and log likelihood, but not dramatically. The BIC has actually increased. The forecasts are much more optimistic in the short term, and go a lot further out. It may be that with this dataset it is impossible to know whether there truly is a large seasonal cycle over the 20 years, because the cycle encompasses the entire dataset, and there is no opportunity for it to repeat itself. Visually, it does seem as though the periodicity would exist, but upon further thought, any sequence of data laid on it's own end multiple times would create its own seasonality. It looks as though this model has done exactly that, from the look of the predictions. <br>\n",
    "<br>\n",
    "It has occurred to me that any data might show a periodogram spike with a period the same length as the data, since if you lay the same pattern twice in a row it would create its own seasonality. Investigating this, I realize that I have made a big mistake in incorporating a seasonality of this description. Below, we will see that completely random data with a slight trend will show a strong spike on the periodogram at a frequency equal to the length of the data."
   ]
  },
  {
   "cell_type": "code",
   "execution_count": 21,
   "metadata": {},
   "outputs": [
    {
     "name": "stderr",
     "output_type": "stream",
     "text": [
      "Warning message in seq(0, 400, by = 0.5) + rnorm(n = 800, mean = 0, sd = 200):\n",
      "\"longer object length is not a multiple of shorter object length\"\n"
     ]
    },
    {
     "data": {
      "image/png": "[encoded data removed]",
      "text/plain": [
       "plot without title"
      ]
     },
     "metadata": {
      "image/png": {
       "height": 420,
       "width": 420
      }
     },
     "output_type": "display_data"
    }
   ],
   "source": [
    "# Creating random data with a slight linear trend:\n",
    "test_x <- seq(0, 400, by = .5) + rnorm(n = 800, mean = 0, sd = 200)\n",
    "plot(test_x)"
   ]
  },
  {
   "cell_type": "code",
   "execution_count": 22,
   "metadata": {},
   "outputs": [
    {
     "data": {
      "image/png": "[encoded data removed]",
      "text/plain": [
       "plot without title"
      ]
     },
     "metadata": {
      "image/png": {
       "height": 420,
       "width": 420
      }
     },
     "output_type": "display_data"
    }
   ],
   "source": [
    "# Generate and plot periodogram\n",
    "pgram <- periodogram(test_x)\n",
    "plot(pgram$freq, pgram$spec)"
   ]
  },
  {
   "cell_type": "code",
   "execution_count": 23,
   "metadata": {},
   "outputs": [
    {
     "data": {
      "text/html": [
       "<table>\n",
       "<caption>A data.table: 3 × 2</caption>\n",
       "<thead>\n",
       "\t<tr><th scope=col>period</th><th scope=col>spec.V1</th></tr>\n",
       "\t<tr><th scope=col>&lt;dbl&gt;</th><th scope=col>&lt;dbl&gt;</th></tr>\n",
       "</thead>\n",
       "<tbody>\n",
       "\t<tr><td>801.0</td><td>2763068.6</td></tr>\n",
       "\t<tr><td>400.5</td><td> 635615.2</td></tr>\n",
       "\t<tr><td>267.0</td><td> 604770.5</td></tr>\n",
       "</tbody>\n",
       "</table>\n"
      ],
      "text/latex": [
       "A data.table: 3 × 2\n",
       "\\begin{tabular}{ll}\n",
       " period & spec.V1\\\\\n",
       " <dbl> & <dbl>\\\\\n",
       "\\hline\n",
       "\t 801.0 & 2763068.6\\\\\n",
       "\t 400.5 &  635615.2\\\\\n",
       "\t 267.0 &  604770.5\\\\\n",
       "\\end{tabular}\n"
      ],
      "text/markdown": [
       "\n",
       "A data.table: 3 × 2\n",
       "\n",
       "| period &lt;dbl&gt; | spec.V1 &lt;dbl&gt; |\n",
       "|---|---|\n",
       "| 801.0 | 2763068.6 |\n",
       "| 400.5 |  635615.2 |\n",
       "| 267.0 |  604770.5 |\n",
       "\n"
      ],
      "text/plain": [
       "  period spec.V1  \n",
       "1 801.0  2763068.6\n",
       "2 400.5   635615.2\n",
       "3 267.0   604770.5"
      ]
     },
     "metadata": {},
     "output_type": "display_data"
    }
   ],
   "source": [
    "# Check top 2 period\n",
    "data.table(period=1/pgram$freq, spec=pgram$spec)[order(-pgram$spec)][1:3]"
   ]
  },
  {
   "cell_type": "code",
   "execution_count": 24,
   "metadata": {},
   "outputs": [
    {
     "data": {
      "text/html": [
       "<table>\n",
       "<caption>A matrix: 3 × 2 of type dbl</caption>\n",
       "<tbody>\n",
       "\t<tr><td>0.001248439</td><td>2763068.6</td></tr>\n",
       "\t<tr><td>0.002496879</td><td> 635615.2</td></tr>\n",
       "\t<tr><td>0.003745318</td><td> 604770.5</td></tr>\n",
       "</tbody>\n",
       "</table>\n"
      ],
      "text/latex": [
       "A matrix: 3 × 2 of type dbl\n",
       "\\begin{tabular}{ll}\n",
       "\t 0.001248439 & 2763068.6\\\\\n",
       "\t 0.002496879 &  635615.2\\\\\n",
       "\t 0.003745318 &  604770.5\\\\\n",
       "\\end{tabular}\n"
      ],
      "text/markdown": [
       "\n",
       "A matrix: 3 × 2 of type dbl\n",
       "\n",
       "| 0.001248439 | 2763068.6 |\n",
       "| 0.002496879 |  635615.2 |\n",
       "| 0.003745318 |  604770.5 |\n",
       "\n"
      ],
      "text/plain": [
       "     [,1]        [,2]     \n",
       "[1,] 0.001248439 2763068.6\n",
       "[2,] 0.002496879  635615.2\n",
       "[3,] 0.003745318  604770.5"
      ]
     },
     "metadata": {},
     "output_type": "display_data"
    }
   ],
   "source": [
    "head(cbind(pgram$freq, pgram$spec), 3)"
   ]
  },
  {
   "cell_type": "markdown",
   "metadata": {},
   "source": [
    "Here we can note that the full length of the data does indeed produce a spike on the periodogram. Also, the halfway point follows with the second highest value. This could mean that both of the frequencies used above to enhance the ARIMA model were just artifacts of the way a periodogram is generated. However, looking at the periodogram generated from the fully random data, the halfway spike is nowhere near as high relative to the full period spike as it is with the periodogram generated from the housing data, and it is also much further from the third. To see this, the latter is reproduced below:"
   ]
  },
  {
   "cell_type": "code",
   "execution_count": 98,
   "metadata": {},
   "outputs": [
    {
     "data": {
      "image/png": "[encoded data removed]",
      "text/plain": [
       "plot without title"
      ]
     },
     "metadata": {
      "image/png": {
       "height": 420,
       "width": 420
      }
     },
     "output_type": "display_data"
    }
   ],
   "source": [
    "plot(p$freq, p$spec)"
   ]
  },
  {
   "cell_type": "code",
   "execution_count": 100,
   "metadata": {},
   "outputs": [
    {
     "data": {
      "text/html": [
       "<table>\n",
       "<caption>A data.table: 2 × 2</caption>\n",
       "<thead>\n",
       "\t<tr><th scope=col>period</th><th scope=col>spec.V1</th></tr>\n",
       "\t<tr><th scope=col>&lt;dbl&gt;</th><th scope=col>&lt;dbl&gt;</th></tr>\n",
       "</thead>\n",
       "<tbody>\n",
       "\t<tr><td>265.0</td><td>111855779316</td></tr>\n",
       "\t<tr><td>132.5</td><td>111310822179</td></tr>\n",
       "</tbody>\n",
       "</table>\n"
      ],
      "text/latex": [
       "A data.table: 2 × 2\n",
       "\\begin{tabular}{ll}\n",
       " period & spec.V1\\\\\n",
       " <dbl> & <dbl>\\\\\n",
       "\\hline\n",
       "\t 265.0 & 111855779316\\\\\n",
       "\t 132.5 & 111310822179\\\\\n",
       "\\end{tabular}\n"
      ],
      "text/markdown": [
       "\n",
       "A data.table: 2 × 2\n",
       "\n",
       "| period &lt;dbl&gt; | spec.V1 &lt;dbl&gt; |\n",
       "|---|---|\n",
       "| 265.0 | 111855779316 |\n",
       "| 132.5 | 111310822179 |\n",
       "\n"
      ],
      "text/plain": [
       "  period spec.V1     \n",
       "1 265.0  111855779316\n",
       "2 132.5  111310822179"
      ]
     },
     "metadata": {},
     "output_type": "display_data"
    }
   ],
   "source": [
    "data.table(period=1/p$freq, spec=p$spec)[order(-p$spec)][1:2]"
   ]
  },
  {
   "cell_type": "markdown",
   "metadata": {},
   "source": [
    "Here, rather than with the short dropoff to the second frequency seen with the random data, the second value is nearly as high as the first. This could mean that this spike presents more than just an artifact from the math, and could indeed be pointing to a seasonality worth consideration. Again, visually this seasonality does make sense, and housing markets do follow long term trends.<br>\n",
    "<br>\n",
    "Now to see how the model performs leaving out the full-length period used before, instead only using fourier series for the halfway point:"
   ]
  },
  {
   "cell_type": "code",
   "execution_count": 25,
   "metadata": {},
   "outputs": [
    {
     "name": "stdout",
     "output_type": "stream",
     "text": [
      "[1] 0\n"
     ]
    },
    {
     "name": "stderr",
     "output_type": "stream",
     "text": [
      "i, j combo caused an error\n",
      "\n"
     ]
    },
    {
     "name": "stdout",
     "output_type": "stream",
     "text": [
      "[1] 1\n",
      "[1] 2\n",
      "[1] 3\n",
      "[1] 4\n",
      "[1] 5\n",
      "[1] 6\n",
      "[1] 7\n"
     ]
    }
   ],
   "source": [
    "# Looks like I will need to use exception handling with tryCatch()\n",
    "bestfit <- list(aicc=model$aicc, i=0, fit=model)\n",
    "# Choose the best model by AICc\n",
    "min <- 0\n",
    "for(i in min:7) {\n",
    "  possibleError <- tryCatch(\n",
    "      {\n",
    "          z1 <- fourier(ts(time_series, frequency=132.5), K=i)\n",
    "          print(i)\n",
    "          fit <- auto.arima(time_series, xreg=z1, seasonal=TRUE)\n",
    "          if(fit$aicc < bestfit$aicc) {\n",
    "              bestfit <- list(aicc=fit$aicc, i=i, fit=fit)\n",
    "          }\n",
    "      },\n",
    "      error = function(cond){\n",
    "          message(paste(\"i, j combo caused an error\"))\n",
    "      },\n",
    "      warning = function(cond){\n",
    "          message(paste(\"i, j combo caused a warning\"))\n",
    "      },\n",
    "      finally={\n",
    "      #message(\"Completed Optimization\")\n",
    "      }\n",
    "  )\n",
    "  if(inherits(possibleError, \"error\")) next\n",
    "\n",
    "}"
   ]
  },
  {
   "cell_type": "code",
   "execution_count": 26,
   "metadata": {},
   "outputs": [
    {
     "data": {
      "text/plain": [
       "$aicc\n",
       "[1] 3703.386\n",
       "\n",
       "$i\n",
       "[1] 1\n",
       "\n",
       "$fit\n",
       "Series: time_series \n",
       "Regression with ARIMA(0,2,1) errors \n",
       "\n",
       "Coefficients:\n",
       "          ma1     S1-132     C1-132\n",
       "      -0.2943  -7167.379  17110.077\n",
       "s.e.   0.0588   7424.949   7503.883\n",
       "\n",
       "sigma^2 estimated as 74952:  log likelihood=-1847.62\n",
       "AIC=3703.23   AICc=3703.39   BIC=3717.52\n"
      ]
     },
     "metadata": {},
     "output_type": "display_data"
    }
   ],
   "source": [
    "bestfit"
   ]
  },
  {
   "cell_type": "code",
   "execution_count": 27,
   "metadata": {},
   "outputs": [
    {
     "data": {
      "image/png": "[encoded data removed]",
      "text/plain": [
       "plot without title"
      ]
     },
     "metadata": {
      "image/png": {
       "height": 420,
       "width": 420
      }
     },
     "output_type": "display_data"
    }
   ],
   "source": [
    "autoplot(forecast(bestfit$fit, h=60, xreg=fourier(ts(time_series, frequency=132.5), K=1)))"
   ]
  },
  {
   "cell_type": "markdown",
   "metadata": {},
   "source": [
    "As we can see, this model is only the slightest bit better than the baseline model, though it does compete despite having more variables included. Limiting the size for better comparison:"
   ]
  },
  {
   "cell_type": "code",
   "execution_count": 28,
   "metadata": {},
   "outputs": [
    {
     "name": "stderr",
     "output_type": "stream",
     "text": [
      "Warning message:\n",
      "\"unable to access index for repository https://cran.r-project.org/src/contrib:\n",
      "  cannot open URL 'https://cran.r-project.org/src/contrib/PACKAGES'\"\n",
      "Warning message:\n",
      "\"package 'ggplot2' is not available (for R version 4.0.2)\"\n",
      "Warning message:\n",
      "\"unable to access index for repository https://cran.r-project.org/bin/windows/contrib/4.0:\n",
      "  cannot open URL 'https://cran.r-project.org/bin/windows/contrib/4.0/PACKAGES'\"\n"
     ]
    }
   ],
   "source": [
    "install.packages('ggplot2')"
   ]
  },
  {
   "cell_type": "code",
   "execution_count": 29,
   "metadata": {},
   "outputs": [],
   "source": [
    "library('ggplot2')"
   ]
  },
  {
   "cell_type": "code",
   "execution_count": 30,
   "metadata": {},
   "outputs": [
    {
     "name": "stderr",
     "output_type": "stream",
     "text": [
      "Scale for 'x' is already present. Adding another scale for 'x', which will\n",
      "replace the existing scale.\n",
      "\n"
     ]
    },
    {
     "data": {
      "image/png": "[encoded data removed]",
      "text/plain": [
       "plot without title"
      ]
     },
     "metadata": {
      "image/png": {
       "height": 420,
       "width": 420
      }
     },
     "output_type": "display_data"
    }
   ],
   "source": [
    "pt = autoplot(forecast(bestfit$fit, h=60, xreg=fourier(ts(time_series, frequency=132.5), K=1)), )\n",
    "pt + xlim(0, 325) + ylim(100000, 500000)"
   ]
  },
  {
   "cell_type": "markdown",
   "metadata": {},
   "source": [
    "We can see that these results are very similar to the baseline model, with the exception of a slight turn upward at the end of the projection period. A look below at a 10 year projection period:"
   ]
  },
  {
   "cell_type": "code",
   "execution_count": 34,
   "metadata": {},
   "outputs": [
    {
     "name": "stderr",
     "output_type": "stream",
     "text": [
      "Scale for 'x' is already present. Adding another scale for 'x', which will\n",
      "replace the existing scale.\n",
      "\n"
     ]
    },
    {
     "data": {
      "image/png": "[encoded data removed]",
      "text/plain": [
       "plot without title"
      ]
     },
     "metadata": {
      "image/png": {
       "height": 420,
       "width": 420
      }
     },
     "output_type": "display_data"
    }
   ],
   "source": [
    "pt = autoplot(forecast(bestfit$fit, h=120, xreg=fourier(ts(time_series, frequency=132.5), K=1)), )\n",
    "pt + xlim(0, 385) + ylim(100000, 850000)"
   ]
  },
  {
   "cell_type": "markdown",
   "metadata": {},
   "source": [
    "We can see that these projections have a wide spread past the first few years. The 2007 housing crash may be too unique to try and treat as a seasonal event, so limiting the time window to the market after the crash levelled back off. Either way, the scope of this notebook was to investigate use of the Fourier series on the ARIMA models, which has so far given several insights, including into the full-period artifact of a periodogram."
   ]
  },
  {
   "cell_type": "markdown",
   "metadata": {},
   "source": [
    "## Looking at the function which produces Fourier series\n",
    "The consideration here is to determine whether a python equivalent can be written to keep from switching languages on a regular basis. The R packages are very effective, so it may be that it's worth switching back and forth.<br>\n",
    "<br>\n",
    "Python already has equivalent functions to produce periodograms and ARIMA models, so the gap to bridge is the Fourier function."
   ]
  },
  {
   "cell_type": "code",
   "execution_count": 35,
   "metadata": {},
   "outputs": [
    {
     "data": {
      "text/html": [
       "<pre class=language-r><code>function (x, K, h = NULL) \n",
       "{\n",
       "<span style=white-space:pre-wrap>    if (is.null(h)) {</span>\n",
       "<span style=white-space:pre-wrap>        return(...fourier(x, K, 1:NROW(x)))</span>\n",
       "<span style=white-space:pre-wrap>    }</span>\n",
       "<span style=white-space:pre-wrap>    else {</span>\n",
       "<span style=white-space:pre-wrap>        return(...fourier(x, K, NROW(x) + (1:h)))</span>\n",
       "<span style=white-space:pre-wrap>    }</span>\n",
       "}</code></pre>"
      ],
      "text/latex": [
       "\\begin{minted}{r}\n",
       "function (x, K, h = NULL) \n",
       "\\{\n",
       "    if (is.null(h)) \\{\n",
       "        return(...fourier(x, K, 1:NROW(x)))\n",
       "    \\}\n",
       "    else \\{\n",
       "        return(...fourier(x, K, NROW(x) + (1:h)))\n",
       "    \\}\n",
       "\\}\n",
       "\\end{minted}"
      ],
      "text/markdown": [
       "```r\n",
       "function (x, K, h = NULL) \n",
       "{\n",
       "    if (is.null(h)) {\n",
       "        return(...fourier(x, K, 1:NROW(x)))\n",
       "    }\n",
       "    else {\n",
       "        return(...fourier(x, K, NROW(x) + (1:h)))\n",
       "    }\n",
       "}\n",
       "```"
      ],
      "text/plain": [
       "function (x, K, h = NULL) \n",
       "{\n",
       "    if (is.null(h)) {\n",
       "        return(...fourier(x, K, 1:NROW(x)))\n",
       "    }\n",
       "    else {\n",
       "        return(...fourier(x, K, NROW(x) + (1:h)))\n",
       "    }\n",
       "}\n",
       "<bytecode: 0x000000002f1aea38>\n",
       "<environment: namespace:forecast>"
      ]
     },
     "metadata": {},
     "output_type": "display_data"
    }
   ],
   "source": [
    "forecast::fourier"
   ]
  },
  {
   "cell_type": "code",
   "execution_count": 36,
   "metadata": {},
   "outputs": [
    {
     "data": {
      "text/plain": [
       "A single object matching '...fourier' was found\n",
       "It was found in the following places\n",
       "  namespace:forecast\n",
       "with value\n",
       "\n",
       "function (x, K, times) \n",
       "{\n",
       "    if (any(class(x) == \"msts\")) {\n",
       "        period <- attr(x, \"msts\")\n",
       "    }\n",
       "    else {\n",
       "        period <- frequency(x)\n",
       "    }\n",
       "    if (!exists(\"sinpi\")) {\n",
       "        sinpi <- function(x) {\n",
       "            sin(pi * x)\n",
       "        }\n",
       "        cospi <- function(x) {\n",
       "            cos(pi * x)\n",
       "        }\n",
       "    }\n",
       "    if (length(period) != length(K)) {\n",
       "        stop(\"Number of periods does not match number of orders\")\n",
       "    }\n",
       "    if (any(2 * K > period)) {\n",
       "        stop(\"K must be not be greater than period/2\")\n",
       "    }\n",
       "    p <- numeric(0)\n",
       "    labels <- character(0)\n",
       "    for (j in seq_along(period)) {\n",
       "        if (K[j] > 0) {\n",
       "            p <- c(p, (1:K[j])/period[j])\n",
       "            labels <- c(labels, paste(paste0(c(\"S\", \"C\"), rep(1:K[j], \n",
       "                rep(2, K[j]))), round(period[j]), sep = \"-\"))\n",
       "        }\n",
       "    }\n",
       "    k <- duplicated(p)\n",
       "    p <- p[!k]\n",
       "    labels <- labels[!rep(k, rep(2, length(k)))]\n",
       "    k <- abs(2 * p - round(2 * p)) > .Machine$double.eps\n",
       "    X <- matrix(NA_real_, nrow = length(times), ncol = 2L * length(p))\n",
       "    for (j in seq_along(p)) {\n",
       "        if (k[j]) {\n",
       "            X[, 2L * j - 1L] <- sinpi(2 * p[j] * times)\n",
       "        }\n",
       "        X[, 2L * j] <- cospi(2 * p[j] * times)\n",
       "    }\n",
       "    colnames(X) <- labels\n",
       "    X <- X[, !is.na(colSums(X)), drop = FALSE]\n",
       "    return(X)\n",
       "}\n",
       "<bytecode: 0x000000002f1ad688>\n",
       "<environment: namespace:forecast>"
      ]
     },
     "metadata": {},
     "output_type": "display_data"
    }
   ],
   "source": [
    "# Need to find ...fourier, can use getAnwyere\n",
    "getAnywhere(...fourier)"
   ]
  },
  {
   "cell_type": "markdown",
   "metadata": {},
   "source": [
    "Testing outputs to understand function:"
   ]
  },
  {
   "cell_type": "code",
   "execution_count": 40,
   "metadata": {},
   "outputs": [
    {
     "data": {
      "text/html": [
       "132.5"
      ],
      "text/latex": [
       "132.5"
      ],
      "text/markdown": [
       "132.5"
      ],
      "text/plain": [
       "[1] 132.5"
      ]
     },
     "metadata": {},
     "output_type": "display_data"
    }
   ],
   "source": [
    "test_period <- frequency(ts(time_series, f=132.5))\n",
    "test_period"
   ]
  },
  {
   "cell_type": "code",
   "execution_count": 41,
   "metadata": {},
   "outputs": [
    {
     "data": {
      "text/html": [
       "1"
      ],
      "text/latex": [
       "1"
      ],
      "text/markdown": [
       "1"
      ],
      "text/plain": [
       "[1] 1"
      ]
     },
     "metadata": {},
     "output_type": "display_data"
    }
   ],
   "source": [
    "seq_along(test_period)"
   ]
  },
  {
   "cell_type": "code",
   "execution_count": 42,
   "metadata": {},
   "outputs": [
    {
     "data": {
      "text/html": [
       "1"
      ],
      "text/latex": [
       "1"
      ],
      "text/markdown": [
       "1"
      ],
      "text/plain": [
       "[1] 1"
      ]
     },
     "metadata": {},
     "output_type": "display_data"
    }
   ],
   "source": [
    "length(test_period)"
   ]
  },
  {
   "cell_type": "code",
   "execution_count": 53,
   "metadata": {
    "scrolled": true
   },
   "outputs": [
    {
     "data": {
      "text/html": [
       "132.5"
      ],
      "text/latex": [
       "132.5"
      ],
      "text/markdown": [
       "132.5"
      ],
      "text/plain": [
       "[1] 132.5"
      ]
     },
     "metadata": {},
     "output_type": "display_data"
    }
   ],
   "source": [
    "test_period[1]"
   ]
  },
  {
   "cell_type": "code",
   "execution_count": 50,
   "metadata": {},
   "outputs": [
    {
     "data": {
      "text/html": [],
      "text/latex": [],
      "text/markdown": [],
      "text/plain": [
       "numeric(0)"
      ]
     },
     "metadata": {},
     "output_type": "display_data"
    }
   ],
   "source": [
    "# Investigating output of numeric(0)\n",
    "numeric(0)"
   ]
  },
  {
   "cell_type": "code",
   "execution_count": 51,
   "metadata": {},
   "outputs": [
    {
     "data": {
      "text/html": [
       "0"
      ],
      "text/latex": [
       "0"
      ],
      "text/markdown": [
       "0"
      ],
      "text/plain": [
       "[1] 0"
      ]
     },
     "metadata": {},
     "output_type": "display_data"
    }
   ],
   "source": [
    "# seems to have output nothing, checking output for numeric(1)\n",
    "numeric(1)"
   ]
  },
  {
   "cell_type": "code",
   "execution_count": 52,
   "metadata": {},
   "outputs": [
    {
     "data": {
      "text/html": [
       "'numeric'"
      ],
      "text/latex": [
       "'numeric'"
      ],
      "text/markdown": [
       "'numeric'"
      ],
      "text/plain": [
       "[1] \"numeric\""
      ]
     },
     "metadata": {},
     "output_type": "display_data"
    }
   ],
   "source": [
    "# it seems as though this is a way to generate an empty numeric variable, testing below\n",
    "zero <- numeric(0)\n",
    "class(zero)"
   ]
  },
  {
   "cell_type": "code",
   "execution_count": 55,
   "metadata": {},
   "outputs": [
    {
     "data": {
      "text/html": [
       "<style>\n",
       ".list-inline {list-style: none; margin:0; padding: 0}\n",
       ".list-inline>li {display: inline-block}\n",
       ".list-inline>li:not(:last-child)::after {content: \"\\00b7\"; padding: 0 .5ex}\n",
       "</style>\n",
       "<ol class=list-inline><li>0.00754716981132075</li><li>0.0150943396226415</li></ol>\n"
      ],
      "text/latex": [
       "\\begin{enumerate*}\n",
       "\\item 0.00754716981132075\n",
       "\\item 0.0150943396226415\n",
       "\\end{enumerate*}\n"
      ],
      "text/markdown": [
       "1. 0.00754716981132075\n",
       "2. 0.0150943396226415\n",
       "\n",
       "\n"
      ],
      "text/plain": [
       "[1] 0.00754717 0.01509434"
      ]
     },
     "metadata": {},
     "output_type": "display_data"
    }
   ],
   "source": [
    "# Looking into these lines, using a single K equal to 2\n",
    "p <- numeric(0)\n",
    "p <- c(p, (1:2)/test_period[1])\n",
    "p"
   ]
  },
  {
   "cell_type": "code",
   "execution_count": 64,
   "metadata": {},
   "outputs": [
    {
     "data": {
      "text/html": [
       "<style>\n",
       ".list-inline {list-style: none; margin:0; padding: 0}\n",
       ".list-inline>li {display: inline-block}\n",
       ".list-inline>li:not(:last-child)::after {content: \"\\00b7\"; padding: 0 .5ex}\n",
       "</style>\n",
       "<ol class=list-inline><li>FALSE</li><li>FALSE</li></ol>\n"
      ],
      "text/latex": [
       "\\begin{enumerate*}\n",
       "\\item FALSE\n",
       "\\item FALSE\n",
       "\\end{enumerate*}\n"
      ],
      "text/markdown": [
       "1. FALSE\n",
       "2. FALSE\n",
       "\n",
       "\n"
      ],
      "text/plain": [
       "[1] FALSE FALSE"
      ]
     },
     "metadata": {},
     "output_type": "display_data"
    }
   ],
   "source": [
    "# investigating behavior of these lines\n",
    "k <- duplicated(p)\n",
    "k"
   ]
  },
  {
   "cell_type": "code",
   "execution_count": 65,
   "metadata": {},
   "outputs": [
    {
     "data": {
      "text/html": [
       "<style>\n",
       ".list-inline {list-style: none; margin:0; padding: 0}\n",
       ".list-inline>li {display: inline-block}\n",
       ".list-inline>li:not(:last-child)::after {content: \"\\00b7\"; padding: 0 .5ex}\n",
       "</style>\n",
       "<ol class=list-inline><li>0.00754716981132075</li><li>0.0150943396226415</li></ol>\n"
      ],
      "text/latex": [
       "\\begin{enumerate*}\n",
       "\\item 0.00754716981132075\n",
       "\\item 0.0150943396226415\n",
       "\\end{enumerate*}\n"
      ],
      "text/markdown": [
       "1. 0.00754716981132075\n",
       "2. 0.0150943396226415\n",
       "\n",
       "\n"
      ],
      "text/plain": [
       "[1] 0.00754717 0.01509434"
      ]
     },
     "metadata": {},
     "output_type": "display_data"
    }
   ],
   "source": [
    "# this appears to be filtering for any duplicated frequencies.\n",
    "p <- p[!k]\n",
    "p"
   ]
  },
  {
   "cell_type": "code",
   "execution_count": null,
   "metadata": {},
   "outputs": [],
   "source": [
    "# We can see above that these lines are creating an array of cycles/unit of time, in this case\n",
    "# cycles per month. With a period of 132.5 months, it is establishing the first and second\n",
    "# harmonics, since K=2, seen by the fact that they are multiples of one another.\n",
    "# For context, imagine a cycle that takes 10 seconds to complete, we would say the cycle is at\n",
    "# 1cycle/10sec or .1 Hz. So above is 1cycle/132.5months"
   ]
  },
  {
   "cell_type": "code",
   "execution_count": 59,
   "metadata": {},
   "outputs": [
    {
     "data": {
      "text/html": [
       "<style>\n",
       ".list-inline {list-style: none; margin:0; padding: 0}\n",
       ".list-inline>li {display: inline-block}\n",
       ".list-inline>li:not(:last-child)::after {content: \"\\00b7\"; padding: 0 .5ex}\n",
       "</style>\n",
       "<ol class=list-inline><li>'S1-132'</li><li>'C1-132'</li><li>'S2-132'</li><li>'C2-132'</li></ol>\n"
      ],
      "text/latex": [
       "\\begin{enumerate*}\n",
       "\\item 'S1-132'\n",
       "\\item 'C1-132'\n",
       "\\item 'S2-132'\n",
       "\\item 'C2-132'\n",
       "\\end{enumerate*}\n"
      ],
      "text/markdown": [
       "1. 'S1-132'\n",
       "2. 'C1-132'\n",
       "3. 'S2-132'\n",
       "4. 'C2-132'\n",
       "\n",
       "\n"
      ],
      "text/plain": [
       "[1] \"S1-132\" \"C1-132\" \"S2-132\" \"C2-132\""
      ]
     },
     "metadata": {},
     "output_type": "display_data"
    }
   ],
   "source": [
    "# Investigating these lines, which establish the list of labels:\n",
    "K = 2\n",
    "j = 1\n",
    "period <- test_period\n",
    "labels <- character(0)\n",
    "labels <- c(labels, paste(paste0(c(\"S\", \"C\"), rep(1:K[j], \n",
    "                rep(2, K[j]))), round(period[j]), sep = \"-\"))\n",
    "labels"
   ]
  },
  {
   "cell_type": "code",
   "execution_count": 56,
   "metadata": {},
   "outputs": [
    {
     "data": {
      "text/html": [
       "<style>\n",
       ".list-inline {list-style: none; margin:0; padding: 0}\n",
       ".list-inline>li {display: inline-block}\n",
       ".list-inline>li:not(:last-child)::after {content: \"\\00b7\"; padding: 0 .5ex}\n",
       "</style>\n",
       "<ol class=list-inline><li>2</li><li>2</li></ol>\n"
      ],
      "text/latex": [
       "\\begin{enumerate*}\n",
       "\\item 2\n",
       "\\item 2\n",
       "\\end{enumerate*}\n"
      ],
      "text/markdown": [
       "1. 2\n",
       "2. 2\n",
       "\n",
       "\n"
      ],
      "text/plain": [
       "[1] 2 2"
      ]
     },
     "metadata": {},
     "output_type": "display_data"
    }
   ],
   "source": [
    "# the rep() function in r takes a value and repeats it a number of times\n",
    "# the following will repeat 2 twice\n",
    "rep(2,2)"
   ]
  },
  {
   "cell_type": "code",
   "execution_count": 63,
   "metadata": {},
   "outputs": [
    {
     "data": {
      "text/html": [
       "<style>\n",
       ".list-inline {list-style: none; margin:0; padding: 0}\n",
       ".list-inline>li {display: inline-block}\n",
       ".list-inline>li:not(:last-child)::after {content: \"\\00b7\"; padding: 0 .5ex}\n",
       "</style>\n",
       "<ol class=list-inline><li>1</li><li>1</li><li>2</li><li>2</li><li>3</li><li>3</li></ol>\n"
      ],
      "text/latex": [
       "\\begin{enumerate*}\n",
       "\\item 1\n",
       "\\item 1\n",
       "\\item 2\n",
       "\\item 2\n",
       "\\item 3\n",
       "\\item 3\n",
       "\\end{enumerate*}\n"
      ],
      "text/markdown": [
       "1. 1\n",
       "2. 1\n",
       "3. 2\n",
       "4. 2\n",
       "5. 3\n",
       "6. 3\n",
       "\n",
       "\n"
      ],
      "text/plain": [
       "[1] 1 1 2 2 3 3"
      ]
     },
     "metadata": {},
     "output_type": "display_data"
    }
   ],
   "source": [
    "rep(1:3, rep(2,3))"
   ]
  },
  {
   "cell_type": "code",
   "execution_count": 60,
   "metadata": {},
   "outputs": [
    {
     "data": {
      "text/html": [
       "<style>\n",
       ".list-inline {list-style: none; margin:0; padding: 0}\n",
       ".list-inline>li {display: inline-block}\n",
       ".list-inline>li:not(:last-child)::after {content: \"\\00b7\"; padding: 0 .5ex}\n",
       "</style>\n",
       "<ol class=list-inline><li>1</li><li>1</li><li>2</li><li>2</li></ol>\n"
      ],
      "text/latex": [
       "\\begin{enumerate*}\n",
       "\\item 1\n",
       "\\item 1\n",
       "\\item 2\n",
       "\\item 2\n",
       "\\end{enumerate*}\n"
      ],
      "text/markdown": [
       "1. 1\n",
       "2. 1\n",
       "3. 2\n",
       "4. 2\n",
       "\n",
       "\n"
      ],
      "text/plain": [
       "[1] 1 1 2 2"
      ]
     },
     "metadata": {},
     "output_type": "display_data"
    }
   ],
   "source": [
    "rep(1:2, rep(2, 2))"
   ]
  },
  {
   "cell_type": "code",
   "execution_count": 46,
   "metadata": {},
   "outputs": [
    {
     "data": {
      "text/html": [
       "''"
      ],
      "text/latex": [
       "''"
      ],
      "text/markdown": [
       "''"
      ],
      "text/plain": [
       "[1] \"\""
      ]
     },
     "metadata": {},
     "output_type": "display_data"
    }
   ],
   "source": [
    "character(1)"
   ]
  },
  {
   "cell_type": "markdown",
   "metadata": {},
   "source": [
    "Looking at the code, it looks transcribable. However, for now I'm just going to go back and forth to generate these values."
   ]
  },
  {
   "cell_type": "code",
   "execution_count": null,
   "metadata": {},
   "outputs": [],
   "source": []
  },
  {
   "cell_type": "markdown",
   "metadata": {},
   "source": [
    "UPDATE: It has come to my attention that there is a way to import and execute R functions in python. Since there is only one function here that I am missing in python, it should be easy enough to do things this way, rather than switching back and forth or transcribing this function, which already works."
   ]
  },
  {
   "cell_type": "code",
   "execution_count": 18,
   "metadata": {},
   "outputs": [
    {
     "data": {
      "text/plain": [
       "           time_series time_series.1\n",
       "1996-05-01   119.92108     119.92108\n",
       "1996-06-01   118.37913     118.37913\n",
       "1996-07-01   115.64601     115.64601\n",
       "1996-08-01   127.18503     127.18503\n",
       "1996-09-01   147.27419     147.27419\n",
       "1996-10-01   192.99182     192.99182\n",
       "1996-11-01   224.83192     224.83192\n",
       "1996-12-01   339.73253     339.73253\n",
       "1997-01-01   436.18094     436.18094\n",
       "1997-02-01   422.97574     422.97574\n",
       "1997-03-01   352.38234     352.38234\n",
       "1997-04-01   371.55072     371.55072\n",
       "1997-05-01   387.72289     387.72289\n",
       "1997-06-01   397.20842     397.20842\n",
       "1997-07-01   403.23324     403.23324\n",
       "1997-08-01   423.58787     423.58787\n",
       "1997-09-01   447.47534     447.47534\n",
       "1997-10-01   495.70332     495.70332\n",
       "1997-11-01   530.63208     530.63208\n",
       "1997-12-01   648.86372     648.86372\n",
       "1998-01-01   734.06844     734.06844\n",
       "1998-02-01   714.10828     714.10828\n",
       "1998-03-01   635.47892     635.47892\n",
       "1998-04-01   650.10594     650.10594\n",
       "1998-05-01   648.65201     648.65201\n",
       "1998-06-01   647.68759     647.68759\n",
       "1998-07-01   643.65456     643.65456\n",
       "1998-08-01   648.16249     648.16249\n",
       "1998-09-01   658.09893     658.09893\n",
       "1998-10-01   695.47015     695.47015\n",
       "1998-11-01   721.25374     721.25374\n",
       "1998-12-01   825.35983     825.35983\n",
       "1999-01-01   908.89165     908.89165\n",
       "1999-02-01   887.28721     887.28721\n",
       "1999-03-01   820.70578     820.70578\n",
       "1999-04-01   842.20793     842.20793\n",
       "1999-05-01   848.35245     848.35245\n",
       "1999-06-01   859.66245     859.66245\n",
       "1999-07-01   873.34697     873.34697\n",
       "1999-08-01   895.44824     895.44824\n",
       "1999-09-01   924.22737     924.22737\n",
       "1999-10-01   985.26339     985.26339\n",
       "1999-11-01  1033.94462    1033.94462\n",
       "1999-12-01  1157.28794    1157.28794\n",
       "2000-01-01  1260.73647    1260.73647\n",
       "2000-02-01  1250.20092    1250.20092\n",
       "2000-03-01  1171.41813    1171.41813\n",
       "2000-04-01  1164.13385    1164.13385\n",
       "2000-05-01  1139.94301    1139.94301\n",
       "2000-06-01  1116.84810    1116.84810\n",
       "2000-07-01  1092.40886    1092.40886\n",
       "2000-08-01  1073.91686    1073.91686\n",
       "2000-09-01  1066.25265    1066.25265\n",
       "2000-10-01  1093.91393    1093.91393\n",
       "2000-11-01  1113.13655    1113.13655\n",
       "2000-12-01  1174.11412    1174.11412\n",
       "2001-01-01  1223.42369    1223.42369\n",
       "2001-02-01  1209.07430    1209.07430\n",
       "2001-03-01  1145.10119    1145.10119\n",
       "2001-04-01  1108.39483    1108.39483\n",
       "2001-05-01  1053.02111    1053.02111\n",
       "2001-06-01  1012.25250    1012.25250\n",
       "2001-07-01   978.24213     978.24213\n",
       "2001-08-01   958.52999     958.52999\n",
       "2001-09-01   967.91846     967.91846\n",
       "2001-10-01  1019.04727    1019.04727\n",
       "2001-11-01  1061.01410    1061.01410\n",
       "2001-12-01  1131.92080    1131.92080\n",
       "2002-01-01  1211.82874    1211.82874\n",
       "2002-02-01  1253.81749    1253.81749\n",
       "2002-03-01  1238.12377    1238.12377\n",
       "2002-04-01  1219.22262    1219.22262\n",
       "2002-05-01  1188.27354    1188.27354\n",
       "2002-06-01  1174.20180    1174.20180\n",
       "2002-07-01  1170.14685    1170.14685\n",
       "2002-08-01  1175.98451    1175.98451\n",
       "2002-09-01  1218.60159    1218.60159\n",
       "2002-10-01  1266.42069    1266.42069\n",
       "2002-11-01  1490.24622    1490.24622\n",
       "2002-12-01  1645.01352    1645.01352\n",
       "2003-01-01  1512.50822    1512.50822\n",
       "2003-02-01  1319.47834    1319.47834\n",
       "2003-03-01  1365.45627    1365.45627\n",
       "2003-04-01  1396.14232    1396.14232\n",
       "2003-05-01  1421.23183    1421.23183\n",
       "2003-06-01  1488.81420    1488.81420\n",
       "2003-07-01  1404.97552    1404.97552\n",
       "2003-08-01  1604.09272    1604.09272\n",
       "2003-09-01  1646.79464    1646.79464\n",
       "2003-10-01  1681.90511    1681.90511\n",
       "2003-11-01  1647.04093    1647.04093\n",
       "2003-12-01  1641.74574    1641.74574\n",
       "2004-01-01  3264.26141    3264.26141\n",
       "2004-02-01  1751.59728    1751.59728\n",
       "2004-03-01  1923.82191    1923.82191\n",
       "2004-04-01  2128.46921    2128.46921\n",
       "2004-05-01  2318.90720    2318.90720\n",
       "2004-06-01  2520.82972    2520.82972\n",
       "2004-07-01  2521.92674    2521.92674\n",
       "2004-08-01  2695.28036    2695.28036\n",
       "2004-09-01  2703.44230    2703.44230\n",
       "2004-10-01  2687.74627    2687.74627\n",
       "2004-11-01  2554.82428    2554.82428\n",
       "2004-12-01  2485.99986    2485.99986\n",
       "2005-01-01  2411.96030    2411.96030\n",
       "2005-02-01  2365.69847    2365.69847\n",
       "2005-03-01  2307.89250    2307.89250\n",
       "2005-04-01  2531.16650    2531.16650\n",
       "2005-05-01  2532.48097    2532.48097\n",
       "2005-06-01  2540.20974    2540.20974\n",
       "2005-07-01  2074.68999    2074.68999\n",
       "2005-08-01  2375.87857    2375.87857\n",
       "2005-09-01  2226.18571    2226.18571\n",
       "2005-10-01  2053.35714    2053.35714\n",
       "2005-11-01  1790.55714    1790.55714\n",
       "2005-12-01  1555.63571    1555.63571\n",
       "2006-01-01   925.83480     925.83480\n",
       "2006-02-01  1210.47240    1210.47240\n",
       "2006-03-01  1163.09050    1163.09050\n",
       "2006-04-01  1108.53728    1108.53728\n",
       "2006-05-01   919.60017     919.60017\n",
       "2006-06-01   683.24559     683.24559\n",
       "2006-07-01   133.64532     133.64532\n",
       "2006-08-01   122.43840     122.43840\n",
       "2006-09-01   -60.90322     -60.90322\n",
       "2006-10-01  -166.26429    -166.26429\n",
       "2006-11-01  -274.35206    -274.35206\n",
       "2006-12-01  -225.54853    -225.54853\n",
       "2007-01-01  -274.14164    -274.14164\n",
       "2007-02-01  -192.07261    -192.07261\n",
       "2007-03-01  -258.42728    -258.42728\n",
       "2007-04-01  -329.90853    -329.90853\n",
       "2007-05-01  -544.64298    -544.64298\n",
       "2007-06-01  -795.44069    -795.44069\n",
       "2007-07-01 -1019.16899   -1019.16899\n",
       "2007-08-01 -1090.97094   -1090.97094\n",
       "2007-09-01 -1170.62367   -1170.62367\n",
       "2007-10-01 -1276.43515   -1276.43515\n",
       "2007-11-01 -1443.36641   -1443.36641\n",
       "2007-12-01 -1580.96386   -1580.96386\n",
       "2008-01-01 -1718.95642   -1718.95642\n",
       "2008-02-01 -1880.05809   -1880.05809\n",
       "2008-03-01 -1977.06857   -1977.06857\n",
       "2008-04-01 -2047.14508   -2047.14508\n",
       "2008-05-01 -2182.12666   -2182.12666\n",
       "2008-06-01 -2323.79569   -2323.79569\n",
       "2008-07-01 -2275.32538   -2275.32538\n",
       "2008-08-01 -2062.13097   -2062.13097\n",
       "2008-09-01 -1873.93274   -1873.93274\n",
       "2008-10-01 -1764.53805   -1764.53805\n",
       "2008-11-01 -1679.34867   -1679.34867\n",
       "2008-12-01 -1549.54336   -1549.54336\n",
       "2009-01-01 -1472.16959   -1472.16959\n",
       "2009-02-01 -1488.15082   -1488.15082\n",
       "2009-03-01 -1621.23656   -1621.23656\n",
       "2009-04-01 -1758.84975   -1758.84975\n",
       "2009-05-01 -1998.23147   -1998.23147\n",
       "2009-06-01 -1988.53282   -1988.53282\n",
       "2009-07-01 -1465.07641   -1465.07641\n",
       "2009-08-01  -939.51778    -939.51778\n",
       "2009-09-01  -611.63120    -611.63120\n",
       "2009-10-01  -373.08916    -373.08916\n",
       "2009-11-01  -163.82663    -163.82663\n",
       "2009-12-01   -56.48731     -56.48731\n",
       "2010-01-01   -31.81165     -31.81165\n",
       "2010-02-01   304.52489     304.52489\n",
       "2010-03-01 -2412.44288   -2412.44288\n",
       "2010-04-01  -886.28774    -886.28774\n",
       "2010-05-01  -544.36483    -544.36483\n",
       "2010-06-01   -76.73577     -76.73577\n",
       "2010-07-01  -814.10156    -814.10156\n",
       "2010-08-01  -873.89525    -873.89525\n",
       "2010-09-01 -1033.79813   -1033.79813\n",
       "2010-10-01 -1046.81929   -1046.81929\n",
       "2010-11-01 -1101.73430   -1101.73430\n",
       "2010-12-01 -1228.56053   -1228.56053\n",
       "2011-01-01 -1502.05804   -1502.05804\n",
       "2011-02-01 -1200.35991   -1200.35991\n",
       "2011-03-01  -993.13400    -993.13400\n",
       "2011-04-01  -759.86988    -759.86988\n",
       "2011-05-01  -629.96262    -629.96262\n",
       "2011-06-01  -582.05980    -582.05980\n",
       "2011-07-01  -703.59548    -703.59548\n",
       "2011-08-01  -514.48314    -514.48314\n",
       "2011-09-01  -493.78800    -493.78800\n",
       "2011-10-01  -425.51133    -425.51133\n",
       "2011-11-01  -352.23881    -352.23881\n",
       "2011-12-01  -296.91128    -296.91128\n",
       "2012-01-01  -424.28369    -424.28369\n",
       "2012-02-01  -150.47245    -150.47245\n",
       "2012-03-01   203.06228     203.06228\n",
       "2012-04-01   552.30706     552.30706\n",
       "2012-05-01   733.49886     733.49886\n",
       "2012-06-01   716.25629     716.25629\n",
       "2012-07-01   605.12231     605.12231\n",
       "2012-08-01   712.75057     712.75057\n",
       "2012-09-01   745.63615     745.63615\n",
       "2012-10-01   780.32651     780.32651\n",
       "2012-11-01   918.30268     918.30268\n",
       "2012-12-01   968.10636     968.10636\n",
       "2013-01-01   740.79357     740.79357\n",
       "2013-02-01  1046.09525    1046.09525\n",
       "2013-03-01  1353.87730    1353.87730\n",
       "2013-04-01  1585.36234    1585.36234\n",
       "2013-05-01  1668.59731    1668.59731\n",
       "2013-06-01  1713.74554    1713.74554\n",
       "2013-07-01  1561.67022    1561.67022\n",
       "2013-08-01  1488.70261    1488.70261\n",
       "2013-09-01  1249.50732    1249.50732\n",
       "2013-10-01  1096.57862    1096.57862\n",
       "2013-11-01  1000.29424    1000.29424\n",
       "2013-12-01   963.85658     963.85658\n",
       "2014-01-01   709.46969     709.46969\n",
       "2014-02-01   952.73062     952.73062\n",
       "2014-03-01   946.63530     946.63530\n",
       "2014-04-01  1042.21040    1042.21040\n",
       "2014-05-01  1107.22711    1107.22711\n",
       "2014-06-01  1078.61185    1078.61185\n",
       "2014-07-01   788.65755     788.65755\n",
       "2014-08-01  1042.46417    1042.46417\n",
       "2014-09-01   918.29111     918.29111\n",
       "2014-10-01   867.47945     867.47945\n",
       "2014-11-01   894.62066     894.62066\n",
       "2014-12-01   890.17184     890.17184\n",
       "2015-01-01   978.88338     978.88338\n",
       "2015-02-01  1069.08918    1069.08918\n",
       "2015-03-01  1076.14617    1076.14617\n",
       "2015-04-01  1173.33424    1173.33424\n",
       "2015-05-01  1344.44746    1344.44746\n",
       "2015-06-01  1389.91374    1389.91374\n",
       "2015-07-01  1359.40365    1359.40365\n",
       "2015-08-01  1320.91965    1320.91965\n",
       "2015-09-01  1233.82463    1233.82463\n",
       "2015-10-01  1106.29627    1106.29627\n",
       "2015-11-01  1000.47545    1000.47545\n",
       "2015-12-01  1000.12905    1000.12905\n",
       "2016-01-01  1131.19609    1131.19609\n",
       "2016-02-01  1090.94614    1090.94614\n",
       "2016-03-01  1026.99857    1026.99857\n",
       "2016-04-01  1149.96264    1149.96264\n",
       "2016-05-01  1319.36426    1319.36426\n",
       "2016-06-01  1336.44638    1336.44638\n",
       "2016-07-01  1385.69585    1385.69585\n",
       "2016-08-01  1392.13476    1392.13476\n",
       "2016-09-01  1348.10840    1348.10840\n",
       "2016-10-01  1308.29315    1308.29315\n",
       "2016-11-01  1322.58371    1322.58371\n",
       "2016-12-01  1346.89262    1346.89262\n",
       "2017-01-01  1449.46682    1449.46682\n",
       "2017-02-01  1381.83794    1381.83794\n",
       "2017-03-01  1310.01834    1310.01834\n",
       "2017-04-01  1468.38959    1468.38959\n",
       "2017-05-01  1693.33696    1693.33696\n",
       "2017-06-01  1597.87407    1597.87407\n",
       "2017-07-01  1510.67717    1510.67717\n",
       "2017-08-01  1530.38104    1530.38104\n",
       "2017-09-01  1598.84534    1598.84534\n",
       "2017-10-01  1568.56619    1568.56619\n",
       "2017-11-01  1487.67235    1487.67235\n",
       "2017-12-01  1574.46173    1574.46173\n",
       "2018-01-01  1561.74013    1561.74013\n",
       "2018-02-01  1711.62806    1711.62806\n",
       "2018-03-01  2142.68831    2142.68831\n",
       "2018-04-01  1528.56755    1528.56755"
      ]
     },
     "metadata": {},
     "output_type": "display_data"
    }
   ],
   "source": [
    "two_col <- cbind(time_series, time_series)\n",
    "two_col"
   ]
  },
  {
   "cell_type": "code",
   "execution_count": 19,
   "metadata": {},
   "outputs": [
    {
     "name": "stderr",
     "output_type": "stream",
     "text": [
      "Warning message in if (start > end) stop(\"'start' cannot be after 'end'\"):\n",
      "\"the condition has length > 1 and only the first element will be used\"\n",
      "Warning message in if (abs(round(cycles) - cycles) > ts.eps * max(cycles, 1)) stop(\"'end' must be a whole number of cycles after 'start'\"):\n",
      "\"the condition has length > 1 and only the first element will be used\"\n",
      "Warning message in if (nobs != ndata) data <- if (NCOL(data) == 1) {:\n",
      "\"the condition has length > 1 and only the first element will be used\"\n"
     ]
    },
    {
     "ename": "ERROR",
     "evalue": "Error in attr(data, \"tsp\") <- c(start, end, frequency): 'tsp' attribute must be numeric of length three\n",
     "output_type": "error",
     "traceback": [
      "Error in attr(data, \"tsp\") <- c(start, end, frequency): 'tsp' attribute must be numeric of length three\nTraceback:\n",
      "1. fourier(ts(two_col, f = c(132.5, 265)), K = c(1, 1))",
      "2. ...fourier(x, K, 1:NROW(x))",
      "3. ts(two_col, f = c(132.5, 265))"
     ]
    }
   ],
   "source": [
    "fourier(ts(time_series, f=c(132.5, 265)), K=c(1,1))"
   ]
  },
  {
   "cell_type": "code",
   "execution_count": 20,
   "metadata": {},
   "outputs": [
    {
     "name": "stderr",
     "output_type": "stream",
     "text": [
      "Warning message in if (start > end) stop(\"'start' cannot be after 'end'\"):\n",
      "\"the condition has length > 1 and only the first element will be used\"\n",
      "Warning message in if (abs(round(cycles) - cycles) > ts.eps * max(cycles, 1)) stop(\"'end' must be a whole number of cycles after 'start'\"):\n",
      "\"the condition has length > 1 and only the first element will be used\"\n",
      "Warning message in if (nobs != ndata) data <- if (NCOL(data) == 1) {:\n",
      "\"the condition has length > 1 and only the first element will be used\"\n"
     ]
    },
    {
     "ename": "ERROR",
     "evalue": "Error in attr(data, \"tsp\") <- c(start, end, frequency): 'tsp' attribute must be numeric of length three\n",
     "output_type": "error",
     "traceback": [
      "Error in attr(data, \"tsp\") <- c(start, end, frequency): 'tsp' attribute must be numeric of length three\nTraceback:\n",
      "1. ts(time_series, f = c(132.5, 265))"
     ]
    }
   ],
   "source": [
    "ts(time_series, f=c(132.5, 265))"
   ]
  },
  {
   "cell_type": "code",
   "execution_count": null,
   "metadata": {},
   "outputs": [],
   "source": []
  }
 ],
 "metadata": {
  "kernelspec": {
   "display_name": "R",
   "language": "R",
   "name": "ir"
  },
  "language_info": {
   "codemirror_mode": "r",
   "file_extension": ".r",
   "mimetype": "text/x-r-source",
   "name": "R",
   "pygments_lexer": "r",
   "version": "4.0.2"
  }
 },
 "nbformat": 4,
 "nbformat_minor": 4
}
